{
  "nbformat": 4,
  "nbformat_minor": 0,
  "metadata": {
    "colab": {
      "name": "Data Mining the Water Table with TF.ipynb",
      "version": "0.3.2",
      "views": {},
      "default_view": {},
      "provenance": [],
      "collapsed_sections": []
    },
    "kernelspec": {
      "display_name": "Python 3",
      "language": "python",
      "name": "python3"
    },
    "accelerator": "GPU"
  },
  "cells": [
    {
      "metadata": {
        "id": "wnVjDM6gjZg3",
        "colab_type": "code",
        "colab": {
          "autoexec": {
            "startup": false,
            "wait_interval": 0
          },
          "base_uri": "https://localhost:8080/",
          "height": 71
        },
        "outputId": "203d0393-fa20-4165-e2a7-9c1a7cb28b23",
        "executionInfo": {
          "status": "ok",
          "timestamp": 1531316728569,
          "user_tz": -330,
          "elapsed": 8373,
          "user": {
            "displayName": "Swapnil Harpale",
            "photoUrl": "//lh4.googleusercontent.com/-nT1CJ8QDrcg/AAAAAAAAAAI/AAAAAAAAAdg/nmzfmQ2w9RM/s50-c-k-no/photo.jpg",
            "userId": "102332678525874102621"
          }
        }
      },
      "cell_type": "code",
      "source": [
        "import pandas as pd\n",
        "import numpy as np\n",
        "import matplotlib.pyplot as plt\n",
        "from sklearn.preprocessing import LabelEncoder, OneHotEncoder, LabelBinarizer, StandardScaler\n",
        "from sklearn.cross_validation import train_test_split\n",
        "from sklearn.ensemble import RandomForestClassifier\n",
        "from sklearn.metrics import accuracy_score\n",
        "import tensorflow as tf\n",
        "from sklearn.linear_model import LogisticRegression"
      ],
      "execution_count": 6,
      "outputs": [
        {
          "output_type": "stream",
          "text": [
            "/usr/local/lib/python3.6/dist-packages/sklearn/cross_validation.py:41: DeprecationWarning: This module was deprecated in version 0.18 in favor of the model_selection module into which all the refactored classes and functions are moved. Also note that the interface of the new CV iterators are different from that of this module. This module will be removed in 0.20.\n",
            "  \"This module will be removed in 0.20.\", DeprecationWarning)\n"
          ],
          "name": "stderr"
        }
      ]
    },
    {
      "metadata": {
        "id": "QWSuU3Yvjn4-",
        "colab_type": "code",
        "colab": {
          "autoexec": {
            "startup": false,
            "wait_interval": 0
          },
          "resources": {
            "http://localhost:8080/nbextensions/google.colab/files.js": {
              "data": "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",
              "ok": true,
              "headers": [
                [
                  "content-type",
                  "application/javascript"
                ]
              ],
              "status": 200,
              "status_text": ""
            }
          },
          "base_uri": "https://localhost:8080/",
          "height": 140
        },
        "outputId": "b725d00b-6d70-4320-cde4-7a9c546c2569",
        "executionInfo": {
          "status": "ok",
          "timestamp": 1531316646472,
          "user_tz": -330,
          "elapsed": 430362,
          "user": {
            "displayName": "Swapnil Harpale",
            "photoUrl": "//lh4.googleusercontent.com/-nT1CJ8QDrcg/AAAAAAAAAAI/AAAAAAAAAdg/nmzfmQ2w9RM/s50-c-k-no/photo.jpg",
            "userId": "102332678525874102621"
          }
        }
      },
      "cell_type": "code",
      "source": [
        "from google.colab import files\n",
        "uploaded = files.upload()"
      ],
      "execution_count": 2,
      "outputs": [
        {
          "output_type": "display_data",
          "data": {
            "text/html": [
              "\n",
              "     <input type=\"file\" id=\"files-3a2765e4-0a32-4b2a-a1aa-4414a6265e5a\" name=\"files[]\" multiple disabled />\n",
              "     <output id=\"result-3a2765e4-0a32-4b2a-a1aa-4414a6265e5a\">\n",
              "      Upload widget is only available when the cell has been executed in the\n",
              "      current browser session. Please rerun this cell to enable.\n",
              "      </output>\n",
              "      <script src=\"/nbextensions/google.colab/files.js\"></script> "
            ],
            "text/plain": [
              "<IPython.core.display.HTML object>"
            ]
          },
          "metadata": {
            "tags": []
          }
        },
        {
          "output_type": "stream",
          "text": [
            "Saving Data.csv to Data.csv\n",
            "Saving Test_set_values.csv to Test_set_values.csv\n",
            "Saving Training_set_labels.csv to Training_set_labels.csv\n"
          ],
          "name": "stdout"
        }
      ]
    },
    {
      "metadata": {
        "id": "Ift4s5PcligJ",
        "colab_type": "code",
        "colab": {
          "autoexec": {
            "startup": false,
            "wait_interval": 0
          }
        }
      },
      "cell_type": "code",
      "source": [
        "import io"
      ],
      "execution_count": 0,
      "outputs": []
    },
    {
      "metadata": {
        "id": "hLGNLaUMjZg9",
        "colab_type": "code",
        "colab": {
          "autoexec": {
            "startup": false,
            "wait_interval": 0
          },
          "base_uri": "https://localhost:8080/",
          "height": 406
        },
        "outputId": "cc43caea-7316-4dcb-c53e-3d1562bde337",
        "executionInfo": {
          "status": "ok",
          "timestamp": 1531318312265,
          "user_tz": -330,
          "elapsed": 1318,
          "user": {
            "displayName": "Swapnil Harpale",
            "photoUrl": "//lh4.googleusercontent.com/-nT1CJ8QDrcg/AAAAAAAAAAI/AAAAAAAAAdg/nmzfmQ2w9RM/s50-c-k-no/photo.jpg",
            "userId": "102332678525874102621"
          }
        }
      },
      "cell_type": "code",
      "source": [
        "data = pd.read_csv(io.StringIO(uploaded['Data.csv'].decode('utf-8')))\n",
        "labels = pd.read_csv(io.StringIO(uploaded['Training_set_labels.csv'].decode('utf-8')))\n",
        "test_data = pd.read_csv(io.StringIO(uploaded['Test_set_values.csv'].decode('utf-8')))\n",
        "merged_data = pd.concat([data, test_data])\n",
        "data_len = len(data)\n",
        "print('Data Length: ',data_len)\n",
        "test_data_len = len(test_data)\n",
        "print('Test Data Length: ', test_data_len)\n",
        "merged_data_len = len(merged_data)\n",
        "print('Merged data Length: ',merged_data_len)\n",
        "merged_data.head()"
      ],
      "execution_count": 128,
      "outputs": [
        {
          "output_type": "stream",
          "text": [
            "Data Length:  59400\n",
            "Test Data Length:  14850\n",
            "Merged data Length:  74250\n"
          ],
          "name": "stdout"
        },
        {
          "output_type": "execute_result",
          "data": {
            "text/html": [
              "<div>\n",
              "<style scoped>\n",
              "    .dataframe tbody tr th:only-of-type {\n",
              "        vertical-align: middle;\n",
              "    }\n",
              "\n",
              "    .dataframe tbody tr th {\n",
              "        vertical-align: top;\n",
              "    }\n",
              "\n",
              "    .dataframe thead th {\n",
              "        text-align: right;\n",
              "    }\n",
              "</style>\n",
              "<table border=\"1\" class=\"dataframe\">\n",
              "  <thead>\n",
              "    <tr style=\"text-align: right;\">\n",
              "      <th></th>\n",
              "      <th>id</th>\n",
              "      <th>amount_tsh</th>\n",
              "      <th>date_recorded</th>\n",
              "      <th>funder</th>\n",
              "      <th>gps_height</th>\n",
              "      <th>installer</th>\n",
              "      <th>longitude</th>\n",
              "      <th>latitude</th>\n",
              "      <th>wpt_name</th>\n",
              "      <th>num_private</th>\n",
              "      <th>...</th>\n",
              "      <th>payment_type</th>\n",
              "      <th>water_quality</th>\n",
              "      <th>quality_group</th>\n",
              "      <th>quantity</th>\n",
              "      <th>quantity_group</th>\n",
              "      <th>source</th>\n",
              "      <th>source_type</th>\n",
              "      <th>source_class</th>\n",
              "      <th>waterpoint_type</th>\n",
              "      <th>waterpoint_type_group</th>\n",
              "    </tr>\n",
              "  </thead>\n",
              "  <tbody>\n",
              "    <tr>\n",
              "      <th>0</th>\n",
              "      <td>69572</td>\n",
              "      <td>6000.0</td>\n",
              "      <td>2011-03-14</td>\n",
              "      <td>Roman</td>\n",
              "      <td>1390</td>\n",
              "      <td>Roman</td>\n",
              "      <td>34.938093</td>\n",
              "      <td>-9.856322</td>\n",
              "      <td>none</td>\n",
              "      <td>0</td>\n",
              "      <td>...</td>\n",
              "      <td>annually</td>\n",
              "      <td>soft</td>\n",
              "      <td>good</td>\n",
              "      <td>enough</td>\n",
              "      <td>enough</td>\n",
              "      <td>spring</td>\n",
              "      <td>spring</td>\n",
              "      <td>groundwater</td>\n",
              "      <td>communal standpipe</td>\n",
              "      <td>communal standpipe</td>\n",
              "    </tr>\n",
              "    <tr>\n",
              "      <th>1</th>\n",
              "      <td>8776</td>\n",
              "      <td>0.0</td>\n",
              "      <td>2013-03-06</td>\n",
              "      <td>Grumeti</td>\n",
              "      <td>1399</td>\n",
              "      <td>GRUMETI</td>\n",
              "      <td>34.698766</td>\n",
              "      <td>-2.147466</td>\n",
              "      <td>Zahanati</td>\n",
              "      <td>0</td>\n",
              "      <td>...</td>\n",
              "      <td>never pay</td>\n",
              "      <td>soft</td>\n",
              "      <td>good</td>\n",
              "      <td>insufficient</td>\n",
              "      <td>insufficient</td>\n",
              "      <td>rainwater harvesting</td>\n",
              "      <td>rainwater harvesting</td>\n",
              "      <td>surface</td>\n",
              "      <td>communal standpipe</td>\n",
              "      <td>communal standpipe</td>\n",
              "    </tr>\n",
              "    <tr>\n",
              "      <th>2</th>\n",
              "      <td>34310</td>\n",
              "      <td>25.0</td>\n",
              "      <td>2013-02-25</td>\n",
              "      <td>Lottery Club</td>\n",
              "      <td>686</td>\n",
              "      <td>World vision</td>\n",
              "      <td>37.460664</td>\n",
              "      <td>-3.821329</td>\n",
              "      <td>Kwa Mahundi</td>\n",
              "      <td>0</td>\n",
              "      <td>...</td>\n",
              "      <td>per bucket</td>\n",
              "      <td>soft</td>\n",
              "      <td>good</td>\n",
              "      <td>enough</td>\n",
              "      <td>enough</td>\n",
              "      <td>dam</td>\n",
              "      <td>dam</td>\n",
              "      <td>surface</td>\n",
              "      <td>communal standpipe multiple</td>\n",
              "      <td>communal standpipe</td>\n",
              "    </tr>\n",
              "    <tr>\n",
              "      <th>3</th>\n",
              "      <td>67743</td>\n",
              "      <td>0.0</td>\n",
              "      <td>2013-01-28</td>\n",
              "      <td>Unicef</td>\n",
              "      <td>263</td>\n",
              "      <td>UNICEF</td>\n",
              "      <td>38.486161</td>\n",
              "      <td>-11.155298</td>\n",
              "      <td>Zahanati Ya Nanyumbu</td>\n",
              "      <td>0</td>\n",
              "      <td>...</td>\n",
              "      <td>never pay</td>\n",
              "      <td>soft</td>\n",
              "      <td>good</td>\n",
              "      <td>dry</td>\n",
              "      <td>dry</td>\n",
              "      <td>machine dbh</td>\n",
              "      <td>borehole</td>\n",
              "      <td>groundwater</td>\n",
              "      <td>communal standpipe multiple</td>\n",
              "      <td>communal standpipe</td>\n",
              "    </tr>\n",
              "    <tr>\n",
              "      <th>4</th>\n",
              "      <td>19728</td>\n",
              "      <td>0.0</td>\n",
              "      <td>2011-07-13</td>\n",
              "      <td>Action In A</td>\n",
              "      <td>0</td>\n",
              "      <td>Artisan</td>\n",
              "      <td>31.130847</td>\n",
              "      <td>-1.825359</td>\n",
              "      <td>Shuleni</td>\n",
              "      <td>0</td>\n",
              "      <td>...</td>\n",
              "      <td>never pay</td>\n",
              "      <td>soft</td>\n",
              "      <td>good</td>\n",
              "      <td>seasonal</td>\n",
              "      <td>seasonal</td>\n",
              "      <td>rainwater harvesting</td>\n",
              "      <td>rainwater harvesting</td>\n",
              "      <td>surface</td>\n",
              "      <td>communal standpipe</td>\n",
              "      <td>communal standpipe</td>\n",
              "    </tr>\n",
              "  </tbody>\n",
              "</table>\n",
              "<p>5 rows × 40 columns</p>\n",
              "</div>"
            ],
            "text/plain": [
              "      id  amount_tsh date_recorded        funder  gps_height     installer  \\\n",
              "0  69572      6000.0    2011-03-14         Roman        1390         Roman   \n",
              "1   8776         0.0    2013-03-06       Grumeti        1399       GRUMETI   \n",
              "2  34310        25.0    2013-02-25  Lottery Club         686  World vision   \n",
              "3  67743         0.0    2013-01-28        Unicef         263        UNICEF   \n",
              "4  19728         0.0    2011-07-13   Action In A           0       Artisan   \n",
              "\n",
              "   longitude   latitude              wpt_name  num_private  \\\n",
              "0  34.938093  -9.856322                  none            0   \n",
              "1  34.698766  -2.147466              Zahanati            0   \n",
              "2  37.460664  -3.821329           Kwa Mahundi            0   \n",
              "3  38.486161 -11.155298  Zahanati Ya Nanyumbu            0   \n",
              "4  31.130847  -1.825359               Shuleni            0   \n",
              "\n",
              "           ...          payment_type water_quality quality_group  \\\n",
              "0          ...              annually          soft          good   \n",
              "1          ...             never pay          soft          good   \n",
              "2          ...            per bucket          soft          good   \n",
              "3          ...             never pay          soft          good   \n",
              "4          ...             never pay          soft          good   \n",
              "\n",
              "       quantity  quantity_group                source           source_type  \\\n",
              "0        enough          enough                spring                spring   \n",
              "1  insufficient    insufficient  rainwater harvesting  rainwater harvesting   \n",
              "2        enough          enough                   dam                   dam   \n",
              "3           dry             dry           machine dbh              borehole   \n",
              "4      seasonal        seasonal  rainwater harvesting  rainwater harvesting   \n",
              "\n",
              "   source_class              waterpoint_type waterpoint_type_group  \n",
              "0   groundwater           communal standpipe    communal standpipe  \n",
              "1       surface           communal standpipe    communal standpipe  \n",
              "2       surface  communal standpipe multiple    communal standpipe  \n",
              "3   groundwater  communal standpipe multiple    communal standpipe  \n",
              "4       surface           communal standpipe    communal standpipe  \n",
              "\n",
              "[5 rows x 40 columns]"
            ]
          },
          "metadata": {
            "tags": []
          },
          "execution_count": 128
        }
      ]
    },
    {
      "metadata": {
        "id": "Yms3pwIRlfBl",
        "colab_type": "code",
        "colab": {
          "autoexec": {
            "startup": false,
            "wait_interval": 0
          }
        }
      },
      "cell_type": "code",
      "source": [
        ""
      ],
      "execution_count": 0,
      "outputs": []
    },
    {
      "metadata": {
        "id": "iwZhRk2ijZhE",
        "colab_type": "code",
        "colab": {
          "autoexec": {
            "startup": false,
            "wait_interval": 0
          },
          "base_uri": "https://localhost:8080/",
          "height": 714
        },
        "outputId": "dee87350-4c0b-473f-c19d-5661a1c7b976",
        "executionInfo": {
          "status": "ok",
          "timestamp": 1531318314230,
          "user_tz": -330,
          "elapsed": 757,
          "user": {
            "displayName": "Swapnil Harpale",
            "photoUrl": "//lh4.googleusercontent.com/-nT1CJ8QDrcg/AAAAAAAAAAI/AAAAAAAAAdg/nmzfmQ2w9RM/s50-c-k-no/photo.jpg",
            "userId": "102332678525874102621"
          }
        }
      },
      "cell_type": "code",
      "source": [
        "merged_data.isnull().sum()"
      ],
      "execution_count": 129,
      "outputs": [
        {
          "output_type": "execute_result",
          "data": {
            "text/plain": [
              "id                           0\n",
              "amount_tsh                   0\n",
              "date_recorded                0\n",
              "funder                    4504\n",
              "gps_height                   0\n",
              "installer                 4532\n",
              "longitude                    0\n",
              "latitude                     0\n",
              "wpt_name                     0\n",
              "num_private                  0\n",
              "basin                        0\n",
              "subvillage                 470\n",
              "region                       0\n",
              "region_code                  0\n",
              "district_code                0\n",
              "lga                          0\n",
              "ward                         0\n",
              "population                   0\n",
              "public_meeting            4155\n",
              "recorded_by                  0\n",
              "scheme_management         4846\n",
              "scheme_name              35258\n",
              "permit                    3793\n",
              "construction_year            0\n",
              "extraction_type              0\n",
              "extraction_type_group        0\n",
              "extraction_type_class        0\n",
              "management                   0\n",
              "management_group             0\n",
              "payment                      0\n",
              "payment_type                 0\n",
              "water_quality                0\n",
              "quality_group                0\n",
              "quantity                     0\n",
              "quantity_group               0\n",
              "source                       0\n",
              "source_type                  0\n",
              "source_class                 0\n",
              "waterpoint_type              0\n",
              "waterpoint_type_group        0\n",
              "dtype: int64"
            ]
          },
          "metadata": {
            "tags": []
          },
          "execution_count": 129
        }
      ]
    },
    {
      "metadata": {
        "id": "MYQhRnG2jZhK",
        "colab_type": "code",
        "colab": {
          "autoexec": {
            "startup": false,
            "wait_interval": 0
          }
        }
      },
      "cell_type": "code",
      "source": [
        "# Drop Schem_name feature..... Too Many Null Values\n",
        "mergerd_data = merged_data.drop(['scheme_name'], axis = 1)"
      ],
      "execution_count": 0,
      "outputs": []
    },
    {
      "metadata": {
        "id": "ftHlIOibjZhP",
        "colab_type": "code",
        "colab": {
          "autoexec": {
            "startup": false,
            "wait_interval": 0
          },
          "base_uri": "https://localhost:8080/",
          "height": 34
        },
        "outputId": "ad3d6ccd-a150-40b6-f07f-fadd6901469c",
        "executionInfo": {
          "status": "ok",
          "timestamp": 1531318316877,
          "user_tz": -330,
          "elapsed": 1209,
          "user": {
            "displayName": "Swapnil Harpale",
            "photoUrl": "//lh4.googleusercontent.com/-nT1CJ8QDrcg/AAAAAAAAAAI/AAAAAAAAAdg/nmzfmQ2w9RM/s50-c-k-no/photo.jpg",
            "userId": "102332678525874102621"
          }
        }
      },
      "cell_type": "code",
      "source": [
        "'''     \n",
        "count = 0\n",
        "for col in merged_data['amount_tsh']:\n",
        "    if col == 0:\n",
        "        count+=1\n",
        "print(count)        \n",
        "'''        "
      ],
      "execution_count": 131,
      "outputs": [
        {
          "output_type": "execute_result",
          "data": {
            "text/plain": [
              "\"     \\ncount = 0\\nfor col in merged_data['amount_tsh']:\\n    if col == 0:\\n        count+=1\\nprint(count)        \\n\""
            ]
          },
          "metadata": {
            "tags": []
          },
          "execution_count": 131
        }
      ]
    },
    {
      "metadata": {
        "id": "Qh172AG0jZhU",
        "colab_type": "code",
        "colab": {
          "autoexec": {
            "startup": false,
            "wait_interval": 0
          }
        }
      },
      "cell_type": "code",
      "source": [
        "#drop funder.. Too many Unique Values\n",
        "#drop public meeting, and permint columns\n",
        "# Drop Schem_name feature..... Too Many Null Values\n",
        "\n",
        "merged_data = merged_data.drop(['funder','amount_tsh','subvillage','installer','public_meeting', 'permit','scheme_name','payment','extraction_type','extraction_type_group','quality_group','quantity_group','source_type','waterpoint_type_group'], axis = 1)\n"
      ],
      "execution_count": 0,
      "outputs": []
    },
    {
      "metadata": {
        "id": "61Uas1k-jZhX",
        "colab_type": "code",
        "colab": {
          "autoexec": {
            "startup": false,
            "wait_interval": 0
          },
          "base_uri": "https://localhost:8080/",
          "height": 544
        },
        "outputId": "64334933-9c38-4d78-a3d4-ba7bec271744",
        "executionInfo": {
          "status": "ok",
          "timestamp": 1531318319043,
          "user_tz": -330,
          "elapsed": 922,
          "user": {
            "displayName": "Swapnil Harpale",
            "photoUrl": "//lh4.googleusercontent.com/-nT1CJ8QDrcg/AAAAAAAAAAI/AAAAAAAAAdg/nmzfmQ2w9RM/s50-c-k-no/photo.jpg",
            "userId": "102332678525874102621"
          }
        }
      },
      "cell_type": "code",
      "source": [
        "merged_data.info()"
      ],
      "execution_count": 133,
      "outputs": [
        {
          "output_type": "stream",
          "text": [
            "<class 'pandas.core.frame.DataFrame'>\n",
            "Int64Index: 74250 entries, 0 to 14849\n",
            "Data columns (total 26 columns):\n",
            "id                       74250 non-null int64\n",
            "date_recorded            74250 non-null object\n",
            "gps_height               74250 non-null int64\n",
            "longitude                74250 non-null float64\n",
            "latitude                 74250 non-null float64\n",
            "wpt_name                 74250 non-null object\n",
            "num_private              74250 non-null int64\n",
            "basin                    74250 non-null object\n",
            "region                   74250 non-null object\n",
            "region_code              74250 non-null int64\n",
            "district_code            74250 non-null int64\n",
            "lga                      74250 non-null object\n",
            "ward                     74250 non-null object\n",
            "population               74250 non-null int64\n",
            "recorded_by              74250 non-null object\n",
            "scheme_management        69404 non-null object\n",
            "construction_year        74250 non-null int64\n",
            "extraction_type_class    74250 non-null object\n",
            "management               74250 non-null object\n",
            "management_group         74250 non-null object\n",
            "payment_type             74250 non-null object\n",
            "water_quality            74250 non-null object\n",
            "quantity                 74250 non-null object\n",
            "source                   74250 non-null object\n",
            "source_class             74250 non-null object\n",
            "waterpoint_type          74250 non-null object\n",
            "dtypes: float64(2), int64(7), object(17)\n",
            "memory usage: 15.3+ MB\n"
          ],
          "name": "stdout"
        }
      ]
    },
    {
      "metadata": {
        "id": "QPSjY7EOjZhd",
        "colab_type": "code",
        "colab": {
          "autoexec": {
            "startup": false,
            "wait_interval": 0
          },
          "base_uri": "https://localhost:8080/",
          "height": 1071
        },
        "outputId": "3f8f366b-0cb4-4146-c435-fd8ec6690cdd",
        "executionInfo": {
          "status": "ok",
          "timestamp": 1531318320063,
          "user_tz": -330,
          "elapsed": 741,
          "user": {
            "displayName": "Swapnil Harpale",
            "photoUrl": "//lh4.googleusercontent.com/-nT1CJ8QDrcg/AAAAAAAAAAI/AAAAAAAAAdg/nmzfmQ2w9RM/s50-c-k-no/photo.jpg",
            "userId": "102332678525874102621"
          }
        }
      },
      "cell_type": "code",
      "source": [
        "merged_data['wpt_name'].value_counts()"
      ],
      "execution_count": 134,
      "outputs": [
        {
          "output_type": "execute_result",
          "data": {
            "text/plain": [
              "none                       4440\n",
              "Shuleni                    2183\n",
              "Zahanati                   1034\n",
              "Msikitini                   647\n",
              "Kanisani                    390\n",
              "Sokoni                      328\n",
              "Bombani                     323\n",
              "Ofisini                     321\n",
              "School                      260\n",
              "Shule Ya Msingi             247\n",
              "Shule                       191\n",
              "Sekondari                   178\n",
              "Muungano                    159\n",
              "Mkombozi                    145\n",
              "Upendo                      130\n",
              "Madukani                    128\n",
              "Kituo Cha Afya              113\n",
              "Mbugani                     113\n",
              "Umoja                       105\n",
              "Mkuyuni                     103\n",
              "Center                      100\n",
              "Hospital                    100\n",
              "Kisimani                     97\n",
              "Ccm                          95\n",
              "Mtakuja                      91\n",
              "Songambele                   90\n",
              "Ofisi Ya Kijiji              89\n",
              "Bwawani                      86\n",
              "Tankini                      82\n",
              "Bondeni                      80\n",
              "                           ... \n",
              "Isangati Primary School       1\n",
              "Kwa Jeton Msiani              1\n",
              "Kwa Mzee Nyakuhaka            1\n",
              "Kwa Mazunuko                  1\n",
              "Kwa Mzee Ayub                 1\n",
              "Kwa Asnasi                    1\n",
              "Kamili                        1\n",
              "Kwa Kanyau Mbalamwezi         1\n",
              "Nyakalungi                    1\n",
              "Pohama Primary                1\n",
              "Sino                          1\n",
              "Kwa Abasi                     1\n",
              "Dp11(Kwa Angulile)            1\n",
              "Kwa Benjamin Ngonyani         1\n",
              "Mlanda                        1\n",
              "Kwa Nguvu Ya Bule             1\n",
              "Kwa Mama Monica               1\n",
              "Kwa Ndigimisi                 1\n",
              "Kwa Swaibu Ayubu              1\n",
              "Bit Nchi                      1\n",
              "Upendo Akina Na Mama A        1\n",
              "Kwa Fumpa                     1\n",
              "Chabalisa                     1\n",
              "Ramadhani Omary Sel           1\n",
              "Pandekichiza                  1\n",
              "Sekondari Tankini             1\n",
              "Kwa Jesca Kihombo             1\n",
              "Gwaidami                      1\n",
              "Kwa Mangula Hasara            1\n",
              "Kwa Msafiri Maengo            1\n",
              "Name: wpt_name, Length: 45684, dtype: int64"
            ]
          },
          "metadata": {
            "tags": []
          },
          "execution_count": 134
        }
      ]
    },
    {
      "metadata": {
        "id": "-91tYrXtjZhj",
        "colab_type": "code",
        "colab": {
          "autoexec": {
            "startup": false,
            "wait_interval": 0
          }
        }
      },
      "cell_type": "code",
      "source": [
        "merged_data.drop(['wpt_name'], axis = 1, inplace =True)"
      ],
      "execution_count": 0,
      "outputs": []
    },
    {
      "metadata": {
        "id": "JHqfzgSujZhn",
        "colab_type": "code",
        "colab": {
          "autoexec": {
            "startup": false,
            "wait_interval": 0
          },
          "base_uri": "https://localhost:8080/",
          "height": 1071
        },
        "outputId": "aece6869-e88c-4035-f7ed-5154b36a34e3",
        "executionInfo": {
          "status": "ok",
          "timestamp": 1531318322264,
          "user_tz": -330,
          "elapsed": 978,
          "user": {
            "displayName": "Swapnil Harpale",
            "photoUrl": "//lh4.googleusercontent.com/-nT1CJ8QDrcg/AAAAAAAAAAI/AAAAAAAAAdg/nmzfmQ2w9RM/s50-c-k-no/photo.jpg",
            "userId": "102332678525874102621"
          }
        }
      },
      "cell_type": "code",
      "source": [
        "merged_data['date_recorded'].value_counts()"
      ],
      "execution_count": 136,
      "outputs": [
        {
          "output_type": "execute_result",
          "data": {
            "text/plain": [
              "2011-03-17    695\n",
              "2011-03-15    694\n",
              "2013-02-03    684\n",
              "2011-03-16    650\n",
              "2011-03-14    649\n",
              "2011-03-18    627\n",
              "2011-03-19    576\n",
              "2013-02-04    575\n",
              "2013-01-29    570\n",
              "2011-03-04    562\n",
              "2013-02-14    550\n",
              "2013-01-24    546\n",
              "2013-01-30    533\n",
              "2011-03-05    532\n",
              "2011-03-09    522\n",
              "2011-03-11    522\n",
              "2011-03-23    520\n",
              "2013-03-15    516\n",
              "2013-02-15    516\n",
              "2013-01-18    513\n",
              "2013-02-16    505\n",
              "2013-01-23    498\n",
              "2011-03-12    493\n",
              "2011-03-24    490\n",
              "2011-03-30    486\n",
              "2013-03-19    486\n",
              "2011-03-03    478\n",
              "2013-02-26    475\n",
              "2013-02-18    473\n",
              "2013-02-13    470\n",
              "             ... \n",
              "2011-09-18      1\n",
              "2011-09-07      1\n",
              "2011-09-10      1\n",
              "2004-01-12      1\n",
              "2011-08-31      1\n",
              "2004-01-09      1\n",
              "2011-09-06      1\n",
              "2011-09-28      1\n",
              "2011-09-01      1\n",
              "2012-01-25      1\n",
              "2011-09-11      1\n",
              "2011-09-09      1\n",
              "2002-10-14      1\n",
              "2011-09-22      1\n",
              "2004-01-04      1\n",
              "2011-09-27      1\n",
              "2011-09-05      1\n",
              "2004-04-01      1\n",
              "2011-09-19      1\n",
              "2004-12-03      1\n",
              "2011-08-29      1\n",
              "2012-01-21      1\n",
              "2011-08-30      1\n",
              "2011-09-20      1\n",
              "2011-09-26      1\n",
              "2004-07-01      1\n",
              "2011-09-13      1\n",
              "2011-09-02      1\n",
              "2004-01-07      1\n",
              "2011-09-24      1\n",
              "Name: date_recorded, Length: 369, dtype: int64"
            ]
          },
          "metadata": {
            "tags": []
          },
          "execution_count": 136
        }
      ]
    },
    {
      "metadata": {
        "id": "I6y9Of0pjZht",
        "colab_type": "code",
        "colab": {
          "autoexec": {
            "startup": false,
            "wait_interval": 0
          }
        }
      },
      "cell_type": "code",
      "source": [
        "merged_data.drop(['date_recorded', 'construction_year','lga','ward','recorded_by','longitude','latitude'], axis = 1, inplace = True)"
      ],
      "execution_count": 0,
      "outputs": []
    },
    {
      "metadata": {
        "id": "jEXlk2AtjZhx",
        "colab_type": "code",
        "colab": {
          "autoexec": {
            "startup": false,
            "wait_interval": 0
          },
          "base_uri": "https://localhost:8080/",
          "height": 408
        },
        "outputId": "d284ad53-cc02-476e-b2e6-3cfe5d940024",
        "executionInfo": {
          "status": "ok",
          "timestamp": 1531318324140,
          "user_tz": -330,
          "elapsed": 731,
          "user": {
            "displayName": "Swapnil Harpale",
            "photoUrl": "//lh4.googleusercontent.com/-nT1CJ8QDrcg/AAAAAAAAAAI/AAAAAAAAAdg/nmzfmQ2w9RM/s50-c-k-no/photo.jpg",
            "userId": "102332678525874102621"
          }
        }
      },
      "cell_type": "code",
      "source": [
        "merged_data.info()"
      ],
      "execution_count": 138,
      "outputs": [
        {
          "output_type": "stream",
          "text": [
            "<class 'pandas.core.frame.DataFrame'>\n",
            "Int64Index: 74250 entries, 0 to 14849\n",
            "Data columns (total 18 columns):\n",
            "id                       74250 non-null int64\n",
            "gps_height               74250 non-null int64\n",
            "num_private              74250 non-null int64\n",
            "basin                    74250 non-null object\n",
            "region                   74250 non-null object\n",
            "region_code              74250 non-null int64\n",
            "district_code            74250 non-null int64\n",
            "population               74250 non-null int64\n",
            "scheme_management        69404 non-null object\n",
            "extraction_type_class    74250 non-null object\n",
            "management               74250 non-null object\n",
            "management_group         74250 non-null object\n",
            "payment_type             74250 non-null object\n",
            "water_quality            74250 non-null object\n",
            "quantity                 74250 non-null object\n",
            "source                   74250 non-null object\n",
            "source_class             74250 non-null object\n",
            "waterpoint_type          74250 non-null object\n",
            "dtypes: int64(6), object(12)\n",
            "memory usage: 10.8+ MB\n"
          ],
          "name": "stdout"
        }
      ]
    },
    {
      "metadata": {
        "id": "yEdoJM0WjZh5",
        "colab_type": "code",
        "colab": {
          "autoexec": {
            "startup": false,
            "wait_interval": 0
          },
          "base_uri": "https://localhost:8080/",
          "height": 85
        },
        "outputId": "fc16560c-dbbd-4b29-9a21-ec84756d2c33",
        "executionInfo": {
          "status": "ok",
          "timestamp": 1531318325881,
          "user_tz": -330,
          "elapsed": 1536,
          "user": {
            "displayName": "Swapnil Harpale",
            "photoUrl": "//lh4.googleusercontent.com/-nT1CJ8QDrcg/AAAAAAAAAAI/AAAAAAAAAdg/nmzfmQ2w9RM/s50-c-k-no/photo.jpg",
            "userId": "102332678525874102621"
          }
        }
      },
      "cell_type": "code",
      "source": [
        "cleaned_train_data = merged_data[:data_len]\n",
        "cleaned_test_data = merged_data[data_len:]\n",
        "print('data',data_len)\n",
        "print('cleaned_train_data',len(cleaned_train_data))\n",
        "print('test data', test_data_len)\n",
        "print('cleaned_test_data',len(cleaned_test_data))\n",
        "cleaned_train_data.to_csv('Cleaned Train Data.csv', index = False)\n",
        "cleaned_test_data.to_csv('Cleaned Test Data.csv', index =False)"
      ],
      "execution_count": 139,
      "outputs": [
        {
          "output_type": "stream",
          "text": [
            "data 59400\n",
            "cleaned_train_data 59400\n",
            "test data 14850\n",
            "cleaned_test_data 14850\n"
          ],
          "name": "stdout"
        }
      ]
    },
    {
      "metadata": {
        "id": "GwILP_jcjZh-",
        "colab_type": "code",
        "colab": {
          "autoexec": {
            "startup": false,
            "wait_interval": 0
          },
          "base_uri": "https://localhost:8080/",
          "height": 34
        },
        "outputId": "767a008f-64c1-458a-ccbf-90d674dbbd97",
        "executionInfo": {
          "status": "ok",
          "timestamp": 1531318326854,
          "user_tz": -330,
          "elapsed": 865,
          "user": {
            "displayName": "Swapnil Harpale",
            "photoUrl": "//lh4.googleusercontent.com/-nT1CJ8QDrcg/AAAAAAAAAAI/AAAAAAAAAdg/nmzfmQ2w9RM/s50-c-k-no/photo.jpg",
            "userId": "102332678525874102621"
          }
        }
      },
      "cell_type": "code",
      "source": [
        "merged_data.shape"
      ],
      "execution_count": 140,
      "outputs": [
        {
          "output_type": "execute_result",
          "data": {
            "text/plain": [
              "(74250, 18)"
            ]
          },
          "metadata": {
            "tags": []
          },
          "execution_count": 140
        }
      ]
    },
    {
      "metadata": {
        "id": "M_1yuN2yjZiD",
        "colab_type": "code",
        "colab": {
          "autoexec": {
            "startup": false,
            "wait_interval": 0
          }
        }
      },
      "cell_type": "code",
      "source": [
        "#Collect Categorical Data\n",
        "cat_data = merged_data.select_dtypes(include=['object'])"
      ],
      "execution_count": 0,
      "outputs": []
    },
    {
      "metadata": {
        "id": "e7YQR_nvjZiI",
        "colab_type": "code",
        "colab": {
          "autoexec": {
            "startup": false,
            "wait_interval": 0
          },
          "base_uri": "https://localhost:8080/",
          "height": 34
        },
        "outputId": "a4f23f0e-3c03-4e01-8418-0e0f745f0e3c",
        "executionInfo": {
          "status": "ok",
          "timestamp": 1531318329031,
          "user_tz": -330,
          "elapsed": 999,
          "user": {
            "displayName": "Swapnil Harpale",
            "photoUrl": "//lh4.googleusercontent.com/-nT1CJ8QDrcg/AAAAAAAAAAI/AAAAAAAAAdg/nmzfmQ2w9RM/s50-c-k-no/photo.jpg",
            "userId": "102332678525874102621"
          }
        }
      },
      "cell_type": "code",
      "source": [
        "cat_data.shape"
      ],
      "execution_count": 142,
      "outputs": [
        {
          "output_type": "execute_result",
          "data": {
            "text/plain": [
              "(74250, 12)"
            ]
          },
          "metadata": {
            "tags": []
          },
          "execution_count": 142
        }
      ]
    },
    {
      "metadata": {
        "id": "9GxoRlSKjZiN",
        "colab_type": "code",
        "colab": {
          "autoexec": {
            "startup": false,
            "wait_interval": 0
          },
          "base_uri": "https://localhost:8080/",
          "height": 34
        },
        "outputId": "4a5f398e-0ef8-4bcc-8fc1-b8eac2f49453",
        "executionInfo": {
          "status": "ok",
          "timestamp": 1531318330005,
          "user_tz": -330,
          "elapsed": 725,
          "user": {
            "displayName": "Swapnil Harpale",
            "photoUrl": "//lh4.googleusercontent.com/-nT1CJ8QDrcg/AAAAAAAAAAI/AAAAAAAAAdg/nmzfmQ2w9RM/s50-c-k-no/photo.jpg",
            "userId": "102332678525874102621"
          }
        }
      },
      "cell_type": "code",
      "source": [
        "#Collect Numerical Data\n",
        "\n",
        "num_data = merged_data.drop(cat_data, axis = 1)\n",
        "num_data.shape"
      ],
      "execution_count": 143,
      "outputs": [
        {
          "output_type": "execute_result",
          "data": {
            "text/plain": [
              "(74250, 6)"
            ]
          },
          "metadata": {
            "tags": []
          },
          "execution_count": 143
        }
      ]
    },
    {
      "metadata": {
        "id": "V0-TGHzHjZiT",
        "colab_type": "code",
        "colab": {
          "autoexec": {
            "startup": false,
            "wait_interval": 0
          },
          "base_uri": "https://localhost:8080/",
          "height": 204
        },
        "outputId": "493ae9cb-c632-4a89-e63c-4f27e7b309fb",
        "executionInfo": {
          "status": "ok",
          "timestamp": 1531318330951,
          "user_tz": -330,
          "elapsed": 745,
          "user": {
            "displayName": "Swapnil Harpale",
            "photoUrl": "//lh4.googleusercontent.com/-nT1CJ8QDrcg/AAAAAAAAAAI/AAAAAAAAAdg/nmzfmQ2w9RM/s50-c-k-no/photo.jpg",
            "userId": "102332678525874102621"
          }
        }
      },
      "cell_type": "code",
      "source": [
        "num_data.head()"
      ],
      "execution_count": 144,
      "outputs": [
        {
          "output_type": "execute_result",
          "data": {
            "text/html": [
              "<div>\n",
              "<style scoped>\n",
              "    .dataframe tbody tr th:only-of-type {\n",
              "        vertical-align: middle;\n",
              "    }\n",
              "\n",
              "    .dataframe tbody tr th {\n",
              "        vertical-align: top;\n",
              "    }\n",
              "\n",
              "    .dataframe thead th {\n",
              "        text-align: right;\n",
              "    }\n",
              "</style>\n",
              "<table border=\"1\" class=\"dataframe\">\n",
              "  <thead>\n",
              "    <tr style=\"text-align: right;\">\n",
              "      <th></th>\n",
              "      <th>id</th>\n",
              "      <th>gps_height</th>\n",
              "      <th>num_private</th>\n",
              "      <th>region_code</th>\n",
              "      <th>district_code</th>\n",
              "      <th>population</th>\n",
              "    </tr>\n",
              "  </thead>\n",
              "  <tbody>\n",
              "    <tr>\n",
              "      <th>0</th>\n",
              "      <td>69572</td>\n",
              "      <td>1390</td>\n",
              "      <td>0</td>\n",
              "      <td>11</td>\n",
              "      <td>5</td>\n",
              "      <td>109</td>\n",
              "    </tr>\n",
              "    <tr>\n",
              "      <th>1</th>\n",
              "      <td>8776</td>\n",
              "      <td>1399</td>\n",
              "      <td>0</td>\n",
              "      <td>20</td>\n",
              "      <td>2</td>\n",
              "      <td>280</td>\n",
              "    </tr>\n",
              "    <tr>\n",
              "      <th>2</th>\n",
              "      <td>34310</td>\n",
              "      <td>686</td>\n",
              "      <td>0</td>\n",
              "      <td>21</td>\n",
              "      <td>4</td>\n",
              "      <td>250</td>\n",
              "    </tr>\n",
              "    <tr>\n",
              "      <th>3</th>\n",
              "      <td>67743</td>\n",
              "      <td>263</td>\n",
              "      <td>0</td>\n",
              "      <td>90</td>\n",
              "      <td>63</td>\n",
              "      <td>58</td>\n",
              "    </tr>\n",
              "    <tr>\n",
              "      <th>4</th>\n",
              "      <td>19728</td>\n",
              "      <td>0</td>\n",
              "      <td>0</td>\n",
              "      <td>18</td>\n",
              "      <td>1</td>\n",
              "      <td>0</td>\n",
              "    </tr>\n",
              "  </tbody>\n",
              "</table>\n",
              "</div>"
            ],
            "text/plain": [
              "      id  gps_height  num_private  region_code  district_code  population\n",
              "0  69572        1390            0           11              5         109\n",
              "1   8776        1399            0           20              2         280\n",
              "2  34310         686            0           21              4         250\n",
              "3  67743         263            0           90             63          58\n",
              "4  19728           0            0           18              1           0"
            ]
          },
          "metadata": {
            "tags": []
          },
          "execution_count": 144
        }
      ]
    },
    {
      "metadata": {
        "id": "phwhfznbjZie",
        "colab_type": "code",
        "colab": {
          "autoexec": {
            "startup": false,
            "wait_interval": 0
          }
        }
      },
      "cell_type": "code",
      "source": [
        "dummy = pd.get_dummies(cat_data)"
      ],
      "execution_count": 0,
      "outputs": []
    },
    {
      "metadata": {
        "id": "0wqAee38jZii",
        "colab_type": "code",
        "colab": {
          "autoexec": {
            "startup": false,
            "wait_interval": 0
          }
        }
      },
      "cell_type": "code",
      "source": [
        "X = pd.concat([num_data, dummy], axis = 1)"
      ],
      "execution_count": 0,
      "outputs": []
    },
    {
      "metadata": {
        "id": "5pwfM_97jZim",
        "colab_type": "code",
        "colab": {
          "autoexec": {
            "startup": false,
            "wait_interval": 0
          },
          "base_uri": "https://localhost:8080/",
          "height": 292
        },
        "outputId": "d45eb665-0922-4799-bbef-278c5d09cd0f",
        "executionInfo": {
          "status": "ok",
          "timestamp": 1531318334198,
          "user_tz": -330,
          "elapsed": 1140,
          "user": {
            "displayName": "Swapnil Harpale",
            "photoUrl": "//lh4.googleusercontent.com/-nT1CJ8QDrcg/AAAAAAAAAAI/AAAAAAAAAdg/nmzfmQ2w9RM/s50-c-k-no/photo.jpg",
            "userId": "102332678525874102621"
          }
        }
      },
      "cell_type": "code",
      "source": [
        "X.isnull().sum()\n",
        "\n",
        "X = np.asarray(X)\n",
        "\n",
        "sc = StandardScaler()\n",
        "\n",
        "X = sc.fit_transform(X)\n",
        "X"
      ],
      "execution_count": 147,
      "outputs": [
        {
          "output_type": "stream",
          "text": [
            "/usr/local/lib/python3.6/dist-packages/sklearn/utils/validation.py:475: DataConversionWarning: Data with input dtype int64 was converted to float64 by StandardScaler.\n",
            "  warnings.warn(msg, DataConversionWarning)\n"
          ],
          "name": "stderr"
        },
        {
          "output_type": "execute_result",
          "data": {
            "text/plain": [
              "array([[ 1.51382407,  1.0455807 , -0.04007089, ..., -0.64645553,\n",
              "        -0.11438893, -0.34774116],\n",
              "       [-1.322587  ,  1.05857228, -0.04007089, ..., -0.64645553,\n",
              "        -0.11438893, -0.34774116],\n",
              "       [-0.13130928,  0.02935041, -0.04007089, ..., -0.64645553,\n",
              "        -0.11438893, -0.34774116],\n",
              "       ...,\n",
              "       [-0.39075533,  1.16972247, -0.04007089, ..., -0.64645553,\n",
              "        -0.11438893, -0.34774116],\n",
              "       [-0.16947272,  0.4797252 , -0.04007089, ..., -0.64645553,\n",
              "        -0.11438893, -0.34774116],\n",
              "       [ 1.47346787, -0.26656891, -0.04007089, ..., -0.64645553,\n",
              "        -0.11438893, -0.34774116]])"
            ]
          },
          "metadata": {
            "tags": []
          },
          "execution_count": 147
        }
      ]
    },
    {
      "metadata": {
        "id": "nu5rgEcEjZiq",
        "colab_type": "code",
        "colab": {
          "autoexec": {
            "startup": false,
            "wait_interval": 0
          }
        }
      },
      "cell_type": "code",
      "source": [
        "train_data= X[:data_len]\n",
        "test_data = X[data_len:]"
      ],
      "execution_count": 0,
      "outputs": []
    },
    {
      "metadata": {
        "id": "ab2yiky7jZiu",
        "colab_type": "code",
        "colab": {
          "autoexec": {
            "startup": false,
            "wait_interval": 0
          },
          "base_uri": "https://localhost:8080/",
          "height": 136
        },
        "outputId": "163863e3-1646-4509-f442-64d3e9f06b9c",
        "executionInfo": {
          "status": "ok",
          "timestamp": 1531318336095,
          "user_tz": -330,
          "elapsed": 779,
          "user": {
            "displayName": "Swapnil Harpale",
            "photoUrl": "//lh4.googleusercontent.com/-nT1CJ8QDrcg/AAAAAAAAAAI/AAAAAAAAAdg/nmzfmQ2w9RM/s50-c-k-no/photo.jpg",
            "userId": "102332678525874102621"
          }
        }
      },
      "cell_type": "code",
      "source": [
        "\n",
        "label = labels.drop(['id'], axis = 1)\n",
        "\n",
        "encoder = LabelBinarizer()\n",
        "\n",
        "labelT = encoder.fit_transform(label)\n",
        "\n",
        "#label_dummy = pd.get_dummies(label)\n",
        "\n",
        "#value = {'functional':2, 'functional needs repair':1,\n",
        "#                   'non functional':0}\n",
        "\n",
        "#label['status_group']  = label.status_group.replace(value)\n",
        "#label_dummy.shape\n",
        "\n",
        "labelT"
      ],
      "execution_count": 149,
      "outputs": [
        {
          "output_type": "execute_result",
          "data": {
            "text/plain": [
              "array([[1, 0, 0],\n",
              "       [1, 0, 0],\n",
              "       [1, 0, 0],\n",
              "       ...,\n",
              "       [1, 0, 0],\n",
              "       [1, 0, 0],\n",
              "       [1, 0, 0]])"
            ]
          },
          "metadata": {
            "tags": []
          },
          "execution_count": 149
        }
      ]
    },
    {
      "metadata": {
        "id": "cORH4c6pjZiy",
        "colab_type": "code",
        "colab": {
          "autoexec": {
            "startup": false,
            "wait_interval": 0
          },
          "base_uri": "https://localhost:8080/",
          "height": 102
        },
        "outputId": "70c69a75-63d0-4d5a-95ef-c2adf85f4761",
        "executionInfo": {
          "status": "ok",
          "timestamp": 1531318337058,
          "user_tz": -330,
          "elapsed": 754,
          "user": {
            "displayName": "Swapnil Harpale",
            "photoUrl": "//lh4.googleusercontent.com/-nT1CJ8QDrcg/AAAAAAAAAAI/AAAAAAAAAdg/nmzfmQ2w9RM/s50-c-k-no/photo.jpg",
            "userId": "102332678525874102621"
          }
        }
      },
      "cell_type": "code",
      "source": [
        "n_dim = train_data.shape[1]\n",
        "print('input size: ',n_dim)\n",
        "n_class = labelT.shape[1]\n",
        "print('Classes: ',n_class)\n",
        "print(train_data.shape)\n",
        "print(labelT.shape)\n",
        "\n",
        "print(\"X Shape =\", train_data.shape, \"Y Shape =\",labelT.shape, \"m = \",n_dim, \"n classes found in test data=\", n_class)"
      ],
      "execution_count": 150,
      "outputs": [
        {
          "output_type": "stream",
          "text": [
            "input size:  112\n",
            "Classes:  3\n",
            "(59400, 112)\n",
            "(59400, 3)\n",
            "X Shape = (59400, 112) Y Shape = (59400, 3) m =  112 n classes found in test data= 3\n"
          ],
          "name": "stdout"
        }
      ]
    },
    {
      "metadata": {
        "id": "M963txYkjZi2",
        "colab_type": "code",
        "colab": {
          "autoexec": {
            "startup": false,
            "wait_interval": 0
          }
        }
      },
      "cell_type": "code",
      "source": [
        "learning_rate = 0.01\n",
        "epochs = 1000\n",
        "\n",
        "layer_1_nodes = 100\n",
        "layer_2_nodes = 100\n",
        "layer_3_nodes = 100\n",
        "\n",
        "\n",
        "x = tf.placeholder(tf.float32, [None, n_dim])\n",
        "y = tf.placeholder(tf.float32, [None, n_class])\n",
        "\n",
        "W = tf.Variable(tf.zeros([n_dim,n_class]))\n",
        "b = tf.Variable(tf.zeros([n_class]))"
      ],
      "execution_count": 0,
      "outputs": []
    },
    {
      "metadata": {
        "id": "lUGkvdt1jZi6",
        "colab_type": "code",
        "colab": {
          "autoexec": {
            "startup": false,
            "wait_interval": 0
          }
        }
      },
      "cell_type": "code",
      "source": [
        "#create weights and biases\n",
        "\n",
        "weights = {'w1': tf.Variable(tf.random_normal([n_dim, layer_1_nodes])),\n",
        "          'w2': tf.Variable(tf.random_normal([layer_1_nodes, layer_2_nodes])),\n",
        "          'w3': tf.Variable(tf.random_normal([layer_2_nodes, layer_3_nodes])),\n",
        "          'wout': tf.Variable(tf.random_normal([layer_3_nodes, n_class])),}\n",
        "          \n",
        "\n",
        "biases = {'b1': tf.Variable(tf.random_normal([layer_1_nodes])),\n",
        "         'b2': tf.Variable(tf.random_normal([layer_2_nodes])),\n",
        "         'b3': tf.Variable(tf.random_normal([layer_3_nodes])),\n",
        "         'bout': tf.Variable(tf.random_normal([n_class])),\n",
        "         }"
      ],
      "execution_count": 0,
      "outputs": []
    },
    {
      "metadata": {
        "id": "XGOxHLlxjZi-",
        "colab_type": "code",
        "colab": {
          "autoexec": {
            "startup": false,
            "wait_interval": 0
          }
        }
      },
      "cell_type": "code",
      "source": [
        "def Neural_Netwrk_model(x, weights, biases):\n",
        "    layer_1 = tf.add(tf.matmul(x, weights['w1']), biases['b1'])\n",
        "    layer_1 = tf.nn.relu(layer_1)\n",
        "    layer_2 = tf.add(tf.matmul(layer_1, weights['w2']), biases['b2'])\n",
        "    layer_2 = tf.nn.relu(layer_2)\n",
        "    layer_3 = tf.add(tf.matmul(layer_2, weights['w3']), biases['b3'])\n",
        "    layer_3 = tf.nn.relu(layer_3)\n",
        "    output = tf.matmul(layer_3, weights['wout']) + biases['bout']\n",
        "    \n",
        "    return output"
      ],
      "execution_count": 0,
      "outputs": []
    },
    {
      "metadata": {
        "id": "6xNZHwTnjZjC",
        "colab_type": "code",
        "colab": {
          "autoexec": {
            "startup": false,
            "wait_interval": 0
          },
          "base_uri": "https://localhost:8080/",
          "height": 54
        },
        "outputId": "a9095928-7d41-451c-c1fa-951731afd266",
        "executionInfo": {
          "status": "ok",
          "timestamp": 1531318423835,
          "user_tz": -330,
          "elapsed": 1060,
          "user": {
            "displayName": "Swapnil Harpale",
            "photoUrl": "//lh4.googleusercontent.com/-nT1CJ8QDrcg/AAAAAAAAAAI/AAAAAAAAAdg/nmzfmQ2w9RM/s50-c-k-no/photo.jpg",
            "userId": "102332678525874102621"
          }
        }
      },
      "cell_type": "code",
      "source": [
        "'''\n",
        "def One_Hot_Encoding(y):\n",
        "    \n",
        "    total_rows = len(y)\n",
        "    print(total_rows)\n",
        "    unique_classes = len(np.unique(y))\n",
        "    print(unique_classes)\n",
        "    One_Hot_Encoding = np.zeros((total_rows,unique_classes))\n",
        "    \n",
        "    One_Hot_Encoding[np.arange(total_rows),y]=1\n",
        "    \n",
        "    return One_Hot_Encoding\n",
        "\n",
        "    \n",
        "encoder = LabelEncoder()\n",
        "encoder.fit(label)\n",
        "label =encoder.transform(label)\n",
        "\n",
        "labels = One_Hot_Encoding(label)\n",
        "labels\n",
        "'''"
      ],
      "execution_count": 162,
      "outputs": [
        {
          "output_type": "execute_result",
          "data": {
            "text/plain": [
              "'\\ndef One_Hot_Encoding(y):\\n    \\n    total_rows = len(y)\\n    print(total_rows)\\n    unique_classes = len(np.unique(y))\\n    print(unique_classes)\\n    One_Hot_Encoding = np.zeros((total_rows,unique_classes))\\n    \\n    One_Hot_Encoding[np.arange(total_rows),y]=1\\n    \\n    return One_Hot_Encoding\\n\\n    \\nencoder = LabelEncoder()\\nencoder.fit(label)\\nlabel =encoder.transform(label)\\n\\nlabels = One_Hot_Encoding(label)\\nlabels\\n'"
            ]
          },
          "metadata": {
            "tags": []
          },
          "execution_count": 162
        }
      ]
    },
    {
      "metadata": {
        "id": "JcnhuQi4jZjH",
        "colab_type": "code",
        "colab": {
          "autoexec": {
            "startup": false,
            "wait_interval": 0
          }
        }
      },
      "cell_type": "code",
      "source": [
        "x_train, x_test, y_train, y_test = train_test_split(train_data, labelT, test_size= 0.20, random_state = 0)"
      ],
      "execution_count": 0,
      "outputs": []
    },
    {
      "metadata": {
        "id": "qzGkpHP2jZjJ",
        "colab_type": "code",
        "colab": {
          "autoexec": {
            "startup": false,
            "wait_interval": 0
          }
        }
      },
      "cell_type": "code",
      "source": [
        "model = Neural_Netwrk_model(x, weights, biases)\n",
        "accuracy_history = []\n",
        "init = tf.global_variables_initializer()\n",
        "sess = tf.Session()\n",
        "sess.run(init)"
      ],
      "execution_count": 0,
      "outputs": []
    },
    {
      "metadata": {
        "id": "TwRMeGZzjZjP",
        "colab_type": "code",
        "colab": {
          "autoexec": {
            "startup": false,
            "wait_interval": 0
          }
        }
      },
      "cell_type": "code",
      "source": [
        "#cost = tf.reduce_mean(-tf.reduce_sum(y * tf.log(model), reduction_indices=[1]))\n",
        "\n",
        "cost = tf.reduce_mean(tf.nn.softmax_cross_entropy_with_logits(logits=model, labels=y))\n",
        "\n",
        "optimizer = tf.train.GradientDescentOptimizer(learning_rate).minimize(cost)\n"
      ],
      "execution_count": 0,
      "outputs": []
    },
    {
      "metadata": {
        "id": "NcWlgbdxjZjU",
        "colab_type": "code",
        "colab": {
          "autoexec": {
            "startup": false,
            "wait_interval": 0
          },
          "base_uri": "https://localhost:8080/",
          "height": 17017
        },
        "outputId": "32fe881b-15fe-4047-aa43-9212ab3381f1",
        "executionInfo": {
          "status": "ok",
          "timestamp": 1531319254197,
          "user_tz": -330,
          "elapsed": 825689,
          "user": {
            "displayName": "Swapnil Harpale",
            "photoUrl": "//lh4.googleusercontent.com/-nT1CJ8QDrcg/AAAAAAAAAAI/AAAAAAAAAdg/nmzfmQ2w9RM/s50-c-k-no/photo.jpg",
            "userId": "102332678525874102621"
          }
        }
      },
      "cell_type": "code",
      "source": [
        "for epoch in range(epochs):\n",
        "    \n",
        "    sess.run(optimizer, feed_dict={x:x_train, y:y_train})\n",
        "    c = sess.run(cost, feed_dict={x:x_train, y:y_train})\n",
        "    \n",
        "    correct_prediction = tf.equal(tf.argmax(model,1),tf.argmax(y,1))\n",
        "    accuracy = tf.reduce_mean(tf.cast(correct_prediction, tf.float32))   \n",
        "    accuracy_t = (sess.run(accuracy,feed_dict={x:x_train, y:y_train}))\n",
        "    accuracy_history.append(accuracy)\n",
        "    \n",
        "    print('completed: ',epoch,'eopch out of: ',epochs,'cost is : ',c,'accuracy: ', accuracy_t)\n",
        "      "
      ],
      "execution_count": 166,
      "outputs": [
        {
          "output_type": "stream",
          "text": [
            "completed:  0 eopch out of:  1000 cost is :  39910.176 accuracy:  0.38415405\n",
            "completed:  1 eopch out of:  1000 cost is :  1654.6 accuracy:  0.5173611\n",
            "completed:  2 eopch out of:  1000 cost is :  1306.0719 accuracy:  0.33468014\n",
            "completed:  3 eopch out of:  1000 cost is :  599.51825 accuracy:  0.5179714\n",
            "completed:  4 eopch out of:  1000 cost is :  207.69456 accuracy:  0.34736952\n",
            "completed:  5 eopch out of:  1000 cost is :  136.80795 accuracy:  0.5002946\n",
            "completed:  6 eopch out of:  1000 cost is :  114.96513 accuracy:  0.49747476\n",
            "completed:  7 eopch out of:  1000 cost is :  100.14384 accuracy:  0.49987373\n",
            "completed:  8 eopch out of:  1000 cost is :  89.67875 accuracy:  0.4959596\n",
            "completed:  9 eopch out of:  1000 cost is :  84.60208 accuracy:  0.5077231\n",
            "completed:  10 eopch out of:  1000 cost is :  89.21493 accuracy:  0.46879208\n",
            "completed:  11 eopch out of:  1000 cost is :  105.81483 accuracy:  0.5254209\n",
            "completed:  12 eopch out of:  1000 cost is :  82.92912 accuracy:  0.44612795\n",
            "completed:  13 eopch out of:  1000 cost is :  74.02802 accuracy:  0.5225379\n",
            "completed:  14 eopch out of:  1000 cost is :  61.57762 accuracy:  0.4787037\n",
            "completed:  15 eopch out of:  1000 cost is :  57.57094 accuracy:  0.5283249\n",
            "completed:  16 eopch out of:  1000 cost is :  51.977036 accuracy:  0.4902357\n",
            "completed:  17 eopch out of:  1000 cost is :  50.3599 accuracy:  0.5283249\n",
            "completed:  18 eopch out of:  1000 cost is :  47.22776 accuracy:  0.4861532\n",
            "completed:  19 eopch out of:  1000 cost is :  46.429886 accuracy:  0.5271675\n",
            "completed:  20 eopch out of:  1000 cost is :  42.44366 accuracy:  0.48314393\n",
            "completed:  21 eopch out of:  1000 cost is :  41.01436 accuracy:  0.5260101\n",
            "completed:  22 eopch out of:  1000 cost is :  37.305546 accuracy:  0.48823655\n",
            "completed:  23 eopch out of:  1000 cost is :  35.858242 accuracy:  0.52388465\n",
            "completed:  24 eopch out of:  1000 cost is :  33.28734 accuracy:  0.48989898\n",
            "completed:  25 eopch out of:  1000 cost is :  32.335373 accuracy:  0.52272725\n",
            "completed:  26 eopch out of:  1000 cost is :  30.078886 accuracy:  0.49099326\n",
            "completed:  27 eopch out of:  1000 cost is :  29.362526 accuracy:  0.52102274\n",
            "completed:  28 eopch out of:  1000 cost is :  27.31255 accuracy:  0.48811027\n",
            "completed:  29 eopch out of:  1000 cost is :  26.640474 accuracy:  0.5209596\n",
            "completed:  30 eopch out of:  1000 cost is :  24.946754 accuracy:  0.4880682\n",
            "completed:  31 eopch out of:  1000 cost is :  24.318403 accuracy:  0.51914984\n",
            "completed:  32 eopch out of:  1000 cost is :  22.811049 accuracy:  0.48728955\n",
            "completed:  33 eopch out of:  1000 cost is :  22.236177 accuracy:  0.5157618\n",
            "completed:  34 eopch out of:  1000 cost is :  20.823627 accuracy:  0.48756313\n",
            "completed:  35 eopch out of:  1000 cost is :  20.215893 accuracy:  0.51445705\n",
            "completed:  36 eopch out of:  1000 cost is :  19.063951 accuracy:  0.48609006\n",
            "completed:  37 eopch out of:  1000 cost is :  18.512691 accuracy:  0.5142256\n",
            "completed:  38 eopch out of:  1000 cost is :  17.528189 accuracy:  0.4847643\n",
            "completed:  39 eopch out of:  1000 cost is :  16.997307 accuracy:  0.512984\n",
            "completed:  40 eopch out of:  1000 cost is :  16.175406 accuracy:  0.48215488\n",
            "completed:  41 eopch out of:  1000 cost is :  15.649356 accuracy:  0.5144992\n",
            "completed:  42 eopch out of:  1000 cost is :  14.906237 accuracy:  0.48019782\n",
            "completed:  43 eopch out of:  1000 cost is :  14.433146 accuracy:  0.514436\n",
            "completed:  44 eopch out of:  1000 cost is :  13.728256 accuracy:  0.48066077\n",
            "completed:  45 eopch out of:  1000 cost is :  13.319601 accuracy:  0.5136574\n",
            "completed:  46 eopch out of:  1000 cost is :  12.674304 accuracy:  0.480766\n",
            "completed:  47 eopch out of:  1000 cost is :  12.3205805 accuracy:  0.5154251\n",
            "completed:  48 eopch out of:  1000 cost is :  11.740001 accuracy:  0.47920877\n",
            "completed:  49 eopch out of:  1000 cost is :  11.407974 accuracy:  0.51563555\n"
          ],
          "name": "stdout"
        },
        {
          "output_type": "stream",
          "text": [
            "completed:  50 eopch out of:  1000 cost is :  10.914864 accuracy:  0.4787037\n",
            "completed:  51 eopch out of:  1000 cost is :  10.604251 accuracy:  0.5153199\n",
            "completed:  52 eopch out of:  1000 cost is :  10.12 accuracy:  0.47725168\n",
            "completed:  53 eopch out of:  1000 cost is :  9.88507 accuracy:  0.51662457\n",
            "completed:  54 eopch out of:  1000 cost is :  9.382449 accuracy:  0.4785143\n",
            "completed:  55 eopch out of:  1000 cost is :  9.209306 accuracy:  0.5184554\n",
            "completed:  56 eopch out of:  1000 cost is :  8.713207 accuracy:  0.47984007\n",
            "completed:  57 eopch out of:  1000 cost is :  8.599501 accuracy:  0.5203914\n",
            "completed:  58 eopch out of:  1000 cost is :  8.103932 accuracy:  0.48013467\n",
            "completed:  59 eopch out of:  1000 cost is :  8.045025 accuracy:  0.5217593\n",
            "completed:  60 eopch out of:  1000 cost is :  7.5719604 accuracy:  0.48089224\n",
            "completed:  61 eopch out of:  1000 cost is :  7.5480204 accuracy:  0.52285355\n",
            "completed:  62 eopch out of:  1000 cost is :  7.0997777 accuracy:  0.48085016\n",
            "completed:  63 eopch out of:  1000 cost is :  7.095611 accuracy:  0.52295876\n",
            "completed:  64 eopch out of:  1000 cost is :  6.6871448 accuracy:  0.48141834\n",
            "completed:  65 eopch out of:  1000 cost is :  6.6900434 accuracy:  0.52319026\n",
            "completed:  66 eopch out of:  1000 cost is :  6.3314514 accuracy:  0.48160774\n",
            "completed:  67 eopch out of:  1000 cost is :  6.3264804 accuracy:  0.52415824\n",
            "completed:  68 eopch out of:  1000 cost is :  6.0042458 accuracy:  0.48305976\n",
            "completed:  69 eopch out of:  1000 cost is :  5.9863744 accuracy:  0.52493685\n",
            "completed:  70 eopch out of:  1000 cost is :  5.670815 accuracy:  0.4847012\n",
            "completed:  71 eopch out of:  1000 cost is :  5.6808276 accuracy:  0.5252315\n",
            "completed:  72 eopch out of:  1000 cost is :  5.392327 accuracy:  0.48505893\n",
            "completed:  73 eopch out of:  1000 cost is :  5.39676 accuracy:  0.5268308\n",
            "completed:  74 eopch out of:  1000 cost is :  5.112428 accuracy:  0.48396465\n",
            "completed:  75 eopch out of:  1000 cost is :  5.130998 accuracy:  0.5278199\n",
            "completed:  76 eopch out of:  1000 cost is :  4.879369 accuracy:  0.48415405\n",
            "completed:  77 eopch out of:  1000 cost is :  4.8957295 accuracy:  0.5292719\n",
            "completed:  78 eopch out of:  1000 cost is :  4.6433096 accuracy:  0.48419613\n",
            "completed:  79 eopch out of:  1000 cost is :  4.6686153 accuracy:  0.5297138\n",
            "completed:  80 eopch out of:  1000 cost is :  4.436076 accuracy:  0.48468015\n",
            "completed:  81 eopch out of:  1000 cost is :  4.4656057 accuracy:  0.5303662\n",
            "completed:  82 eopch out of:  1000 cost is :  4.2416997 accuracy:  0.48598486\n",
            "completed:  83 eopch out of:  1000 cost is :  4.2750106 accuracy:  0.5308502\n",
            "completed:  84 eopch out of:  1000 cost is :  4.0626454 accuracy:  0.48800504\n",
            "completed:  85 eopch out of:  1000 cost is :  4.1038723 accuracy:  0.5314815\n",
            "completed:  86 eopch out of:  1000 cost is :  3.9002855 accuracy:  0.48977274\n",
            "completed:  87 eopch out of:  1000 cost is :  3.9431133 accuracy:  0.5318182\n",
            "completed:  88 eopch out of:  1000 cost is :  3.751606 accuracy:  0.49093014\n",
            "completed:  89 eopch out of:  1000 cost is :  3.7994618 accuracy:  0.5320286\n",
            "completed:  90 eopch out of:  1000 cost is :  3.6119561 accuracy:  0.49185607\n",
            "completed:  91 eopch out of:  1000 cost is :  3.6675644 accuracy:  0.5324495\n",
            "completed:  92 eopch out of:  1000 cost is :  3.4902732 accuracy:  0.49215066\n",
            "completed:  93 eopch out of:  1000 cost is :  3.5482843 accuracy:  0.5328283\n",
            "completed:  94 eopch out of:  1000 cost is :  3.3783748 accuracy:  0.49320287\n",
            "completed:  95 eopch out of:  1000 cost is :  3.437924 accuracy:  0.53324914\n",
            "completed:  96 eopch out of:  1000 cost is :  3.2771301 accuracy:  0.49377105\n",
            "completed:  97 eopch out of:  1000 cost is :  3.338161 accuracy:  0.5335227\n",
            "completed:  98 eopch out of:  1000 cost is :  3.1817753 accuracy:  0.4943813\n",
            "completed:  99 eopch out of:  1000 cost is :  3.2430122 accuracy:  0.53358585\n"
          ],
          "name": "stdout"
        },
        {
          "output_type": "stream",
          "text": [
            "completed:  100 eopch out of:  1000 cost is :  3.090541 accuracy:  0.49577022\n",
            "completed:  101 eopch out of:  1000 cost is :  3.1521869 accuracy:  0.5337332\n",
            "completed:  102 eopch out of:  1000 cost is :  3.0051072 accuracy:  0.49640152\n",
            "completed:  103 eopch out of:  1000 cost is :  3.06695 accuracy:  0.5337542\n",
            "completed:  104 eopch out of:  1000 cost is :  2.9246817 accuracy:  0.49701178\n",
            "completed:  105 eopch out of:  1000 cost is :  2.9864602 accuracy:  0.5342172\n",
            "completed:  106 eopch out of:  1000 cost is :  2.8504748 accuracy:  0.49781144\n",
            "completed:  107 eopch out of:  1000 cost is :  2.9123132 accuracy:  0.53440654\n",
            "completed:  108 eopch out of:  1000 cost is :  2.7820244 accuracy:  0.49825338\n",
            "completed:  109 eopch out of:  1000 cost is :  2.843802 accuracy:  0.53470117\n",
            "completed:  110 eopch out of:  1000 cost is :  2.7171934 accuracy:  0.49911615\n",
            "completed:  111 eopch out of:  1000 cost is :  2.7767003 accuracy:  0.53470117\n",
            "completed:  112 eopch out of:  1000 cost is :  2.655817 accuracy:  0.49983165\n",
            "completed:  113 eopch out of:  1000 cost is :  2.71322 accuracy:  0.5349537\n",
            "completed:  114 eopch out of:  1000 cost is :  2.5983078 accuracy:  0.5006103\n",
            "completed:  115 eopch out of:  1000 cost is :  2.654113 accuracy:  0.5353325\n",
            "completed:  116 eopch out of:  1000 cost is :  2.5441036 accuracy:  0.50166243\n",
            "completed:  117 eopch out of:  1000 cost is :  2.596904 accuracy:  0.53556395\n",
            "completed:  118 eopch out of:  1000 cost is :  2.4928517 accuracy:  0.50239897\n",
            "completed:  119 eopch out of:  1000 cost is :  2.5432162 accuracy:  0.5357744\n",
            "completed:  120 eopch out of:  1000 cost is :  2.4440448 accuracy:  0.50376683\n",
            "completed:  121 eopch out of:  1000 cost is :  2.4922574 accuracy:  0.53606904\n",
            "completed:  122 eopch out of:  1000 cost is :  2.3979928 accuracy:  0.5044192\n",
            "completed:  123 eopch out of:  1000 cost is :  2.4451637 accuracy:  0.5363215\n",
            "completed:  124 eopch out of:  1000 cost is :  2.3549056 accuracy:  0.505303\n",
            "completed:  125 eopch out of:  1000 cost is :  2.4011238 accuracy:  0.5363005\n",
            "completed:  126 eopch out of:  1000 cost is :  2.3143253 accuracy:  0.5056818\n",
            "completed:  127 eopch out of:  1000 cost is :  2.3585198 accuracy:  0.53651094\n",
            "completed:  128 eopch out of:  1000 cost is :  2.2755742 accuracy:  0.5058923\n",
            "completed:  129 eopch out of:  1000 cost is :  2.3180804 accuracy:  0.53661615\n",
            "completed:  130 eopch out of:  1000 cost is :  2.239104 accuracy:  0.5064604\n",
            "completed:  131 eopch out of:  1000 cost is :  2.2800353 accuracy:  0.53674245\n",
            "completed:  132 eopch out of:  1000 cost is :  2.2050328 accuracy:  0.50675505\n",
            "completed:  133 eopch out of:  1000 cost is :  2.24377 accuracy:  0.5366372\n",
            "completed:  134 eopch out of:  1000 cost is :  2.1716354 accuracy:  0.5073443\n",
            "completed:  135 eopch out of:  1000 cost is :  2.208556 accuracy:  0.5367635\n",
            "completed:  136 eopch out of:  1000 cost is :  2.1396997 accuracy:  0.50801766\n",
            "completed:  137 eopch out of:  1000 cost is :  2.1752183 accuracy:  0.5369108\n",
            "completed:  138 eopch out of:  1000 cost is :  2.1090283 accuracy:  0.50829124\n",
            "completed:  139 eopch out of:  1000 cost is :  2.1436112 accuracy:  0.537016\n",
            "completed:  140 eopch out of:  1000 cost is :  2.080019 accuracy:  0.50835437\n",
            "completed:  141 eopch out of:  1000 cost is :  2.113792 accuracy:  0.5371002\n",
            "completed:  142 eopch out of:  1000 cost is :  2.052534 accuracy:  0.5089436\n",
            "completed:  143 eopch out of:  1000 cost is :  2.0847056 accuracy:  0.53722644\n",
            "completed:  144 eopch out of:  1000 cost is :  2.0260293 accuracy:  0.50890154\n",
            "completed:  145 eopch out of:  1000 cost is :  2.0566804 accuracy:  0.5372685\n",
            "completed:  146 eopch out of:  1000 cost is :  2.0011675 accuracy:  0.50911194\n",
            "completed:  147 eopch out of:  1000 cost is :  2.0301616 accuracy:  0.5375421\n",
            "completed:  148 eopch out of:  1000 cost is :  1.9772382 accuracy:  0.50934345\n",
            "completed:  149 eopch out of:  1000 cost is :  2.0037158 accuracy:  0.5375842\n"
          ],
          "name": "stdout"
        },
        {
          "output_type": "stream",
          "text": [
            "completed:  150 eopch out of:  1000 cost is :  1.9534124 accuracy:  0.50934345\n",
            "completed:  151 eopch out of:  1000 cost is :  1.9781636 accuracy:  0.53781563\n",
            "completed:  152 eopch out of:  1000 cost is :  1.9294823 accuracy:  0.5098695\n",
            "completed:  153 eopch out of:  1000 cost is :  1.9533963 accuracy:  0.53815234\n",
            "completed:  154 eopch out of:  1000 cost is :  1.9075843 accuracy:  0.5099958\n",
            "completed:  155 eopch out of:  1000 cost is :  1.9301513 accuracy:  0.5382155\n",
            "completed:  156 eopch out of:  1000 cost is :  1.8864498 accuracy:  0.5103535\n",
            "completed:  157 eopch out of:  1000 cost is :  1.9078974 accuracy:  0.53834176\n",
            "completed:  158 eopch out of:  1000 cost is :  1.8660539 accuracy:  0.5106902\n",
            "completed:  159 eopch out of:  1000 cost is :  1.886576 accuracy:  0.5385311\n",
            "completed:  160 eopch out of:  1000 cost is :  1.8464959 accuracy:  0.51087964\n",
            "completed:  161 eopch out of:  1000 cost is :  1.8660018 accuracy:  0.53872055\n",
            "completed:  162 eopch out of:  1000 cost is :  1.8278965 accuracy:  0.5108165\n",
            "completed:  163 eopch out of:  1000 cost is :  1.8462539 accuracy:  0.538952\n",
            "completed:  164 eopch out of:  1000 cost is :  1.8097057 accuracy:  0.51077443\n",
            "completed:  165 eopch out of:  1000 cost is :  1.8271037 accuracy:  0.5389731\n",
            "completed:  166 eopch out of:  1000 cost is :  1.7918408 accuracy:  0.51138467\n",
            "completed:  167 eopch out of:  1000 cost is :  1.8080037 accuracy:  0.53909934\n",
            "completed:  168 eopch out of:  1000 cost is :  1.7743928 accuracy:  0.5114688\n",
            "completed:  169 eopch out of:  1000 cost is :  1.7897625 accuracy:  0.53916246\n",
            "completed:  170 eopch out of:  1000 cost is :  1.7575077 accuracy:  0.5115741\n",
            "completed:  171 eopch out of:  1000 cost is :  1.7719992 accuracy:  0.5391414\n",
            "completed:  172 eopch out of:  1000 cost is :  1.7409561 accuracy:  0.5118687\n",
            "completed:  173 eopch out of:  1000 cost is :  1.7547826 accuracy:  0.5391835\n",
            "completed:  174 eopch out of:  1000 cost is :  1.7250837 accuracy:  0.5120581\n",
            "completed:  175 eopch out of:  1000 cost is :  1.7383907 accuracy:  0.53920454\n",
            "completed:  176 eopch out of:  1000 cost is :  1.7098594 accuracy:  0.5122896\n",
            "completed:  177 eopch out of:  1000 cost is :  1.7233628 accuracy:  0.5393519\n",
            "completed:  178 eopch out of:  1000 cost is :  1.695696 accuracy:  0.51226854\n",
            "completed:  179 eopch out of:  1000 cost is :  1.7085274 accuracy:  0.53939396\n",
            "completed:  180 eopch out of:  1000 cost is :  1.6816603 accuracy:  0.5123106\n",
            "completed:  181 eopch out of:  1000 cost is :  1.6938542 accuracy:  0.5396254\n",
            "completed:  182 eopch out of:  1000 cost is :  1.6680137 accuracy:  0.5126263\n",
            "completed:  183 eopch out of:  1000 cost is :  1.6799078 accuracy:  0.5396254\n",
            "completed:  184 eopch out of:  1000 cost is :  1.6547987 accuracy:  0.5128788\n",
            "completed:  185 eopch out of:  1000 cost is :  1.6664246 accuracy:  0.53964645\n",
            "completed:  186 eopch out of:  1000 cost is :  1.642056 accuracy:  0.51304716\n",
            "completed:  187 eopch out of:  1000 cost is :  1.653112 accuracy:  0.53973067\n",
            "completed:  188 eopch out of:  1000 cost is :  1.6295602 accuracy:  0.5132155\n",
            "completed:  189 eopch out of:  1000 cost is :  1.6403614 accuracy:  0.5397938\n",
            "completed:  190 eopch out of:  1000 cost is :  1.6175935 accuracy:  0.5136153\n",
            "completed:  191 eopch out of:  1000 cost is :  1.627928 accuracy:  0.5399621\n",
            "completed:  192 eopch out of:  1000 cost is :  1.606117 accuracy:  0.51374155\n",
            "completed:  193 eopch out of:  1000 cost is :  1.616089 accuracy:  0.5401305\n",
            "completed:  194 eopch out of:  1000 cost is :  1.5950991 accuracy:  0.51390994\n",
            "completed:  195 eopch out of:  1000 cost is :  1.6046119 accuracy:  0.54036194\n",
            "completed:  196 eopch out of:  1000 cost is :  1.5842655 accuracy:  0.5138889\n",
            "completed:  197 eopch out of:  1000 cost is :  1.5935557 accuracy:  0.5404461\n",
            "completed:  198 eopch out of:  1000 cost is :  1.573774 accuracy:  0.5142256\n",
            "completed:  199 eopch out of:  1000 cost is :  1.582853 accuracy:  0.54046714\n"
          ],
          "name": "stdout"
        },
        {
          "output_type": "stream",
          "text": [
            "completed:  200 eopch out of:  1000 cost is :  1.563633 accuracy:  0.5146465\n",
            "completed:  201 eopch out of:  1000 cost is :  1.5725865 accuracy:  0.5405093\n",
            "completed:  202 eopch out of:  1000 cost is :  1.5539231 accuracy:  0.51496214\n",
            "completed:  203 eopch out of:  1000 cost is :  1.562744 accuracy:  0.54046714\n",
            "completed:  204 eopch out of:  1000 cost is :  1.5445285 accuracy:  0.5148569\n",
            "completed:  205 eopch out of:  1000 cost is :  1.5532498 accuracy:  0.5406355\n",
            "completed:  206 eopch out of:  1000 cost is :  1.5355192 accuracy:  0.51506734\n",
            "completed:  207 eopch out of:  1000 cost is :  1.5440329 accuracy:  0.5406776\n",
            "completed:  208 eopch out of:  1000 cost is :  1.5267272 accuracy:  0.5151515\n",
            "completed:  209 eopch out of:  1000 cost is :  1.5348498 accuracy:  0.54084593\n",
            "completed:  210 eopch out of:  1000 cost is :  1.5181584 accuracy:  0.5152778\n",
            "completed:  211 eopch out of:  1000 cost is :  1.5259457 accuracy:  0.54097223\n",
            "completed:  212 eopch out of:  1000 cost is :  1.5098774 accuracy:  0.5155934\n",
            "completed:  213 eopch out of:  1000 cost is :  1.5173614 accuracy:  0.54118264\n",
            "completed:  214 eopch out of:  1000 cost is :  1.5017515 accuracy:  0.51578283\n",
            "completed:  215 eopch out of:  1000 cost is :  1.5088954 accuracy:  0.54133\n",
            "completed:  216 eopch out of:  1000 cost is :  1.4937742 accuracy:  0.5161616\n",
            "completed:  217 eopch out of:  1000 cost is :  1.5006514 accuracy:  0.54130894\n",
            "completed:  218 eopch out of:  1000 cost is :  1.4860207 accuracy:  0.51662457\n",
            "completed:  219 eopch out of:  1000 cost is :  1.4927145 accuracy:  0.54147726\n",
            "completed:  220 eopch out of:  1000 cost is :  1.4785416 accuracy:  0.51704544\n",
            "completed:  221 eopch out of:  1000 cost is :  1.484977 accuracy:  0.5415404\n",
            "completed:  222 eopch out of:  1000 cost is :  1.4711368 accuracy:  0.5175295\n",
            "completed:  223 eopch out of:  1000 cost is :  1.4772823 accuracy:  0.5416035\n",
            "completed:  224 eopch out of:  1000 cost is :  1.4639019 accuracy:  0.5179083\n",
            "completed:  225 eopch out of:  1000 cost is :  1.4698275 accuracy:  0.5417298\n",
            "completed:  226 eopch out of:  1000 cost is :  1.4568253 accuracy:  0.51799244\n",
            "completed:  227 eopch out of:  1000 cost is :  1.4625349 accuracy:  0.541835\n",
            "completed:  228 eopch out of:  1000 cost is :  1.449953 accuracy:  0.5181818\n",
            "completed:  229 eopch out of:  1000 cost is :  1.4553548 accuracy:  0.5418771\n",
            "completed:  230 eopch out of:  1000 cost is :  1.4431108 accuracy:  0.5185606\n",
            "completed:  231 eopch out of:  1000 cost is :  1.4483142 accuracy:  0.54181397\n",
            "completed:  232 eopch out of:  1000 cost is :  1.4364045 accuracy:  0.5186237\n",
            "completed:  233 eopch out of:  1000 cost is :  1.4416183 accuracy:  0.54185605\n",
            "completed:  234 eopch out of:  1000 cost is :  1.4299121 accuracy:  0.5187921\n",
            "completed:  235 eopch out of:  1000 cost is :  1.4350902 accuracy:  0.54196125\n",
            "completed:  236 eopch out of:  1000 cost is :  1.4235342 accuracy:  0.51898146\n",
            "completed:  237 eopch out of:  1000 cost is :  1.428543 accuracy:  0.54202443\n",
            "completed:  238 eopch out of:  1000 cost is :  1.4172158 accuracy:  0.5194234\n",
            "completed:  239 eopch out of:  1000 cost is :  1.4220947 accuracy:  0.5420665\n",
            "completed:  240 eopch out of:  1000 cost is :  1.4110622 accuracy:  0.5195076\n",
            "completed:  241 eopch out of:  1000 cost is :  1.4157481 accuracy:  0.54202443\n",
            "completed:  242 eopch out of:  1000 cost is :  1.4049864 accuracy:  0.5194655\n",
            "completed:  243 eopch out of:  1000 cost is :  1.4094449 accuracy:  0.54196125\n",
            "completed:  244 eopch out of:  1000 cost is :  1.3990442 accuracy:  0.51973903\n",
            "completed:  245 eopch out of:  1000 cost is :  1.4033078 accuracy:  0.54198235\n",
            "completed:  246 eopch out of:  1000 cost is :  1.3932248 accuracy:  0.5200547\n",
            "completed:  247 eopch out of:  1000 cost is :  1.397229 accuracy:  0.54198235\n",
            "completed:  248 eopch out of:  1000 cost is :  1.3874781 accuracy:  0.5199074\n",
            "completed:  249 eopch out of:  1000 cost is :  1.3912438 accuracy:  0.54202443\n"
          ],
          "name": "stdout"
        },
        {
          "output_type": "stream",
          "text": [
            "completed:  250 eopch out of:  1000 cost is :  1.3818555 accuracy:  0.51997054\n",
            "completed:  251 eopch out of:  1000 cost is :  1.3854395 accuracy:  0.5419402\n",
            "completed:  252 eopch out of:  1000 cost is :  1.376342 accuracy:  0.52020204\n",
            "completed:  253 eopch out of:  1000 cost is :  1.3797107 accuracy:  0.5419402\n",
            "completed:  254 eopch out of:  1000 cost is :  1.3708731 accuracy:  0.52074915\n",
            "completed:  255 eopch out of:  1000 cost is :  1.3740872 accuracy:  0.5419192\n",
            "completed:  256 eopch out of:  1000 cost is :  1.3655009 accuracy:  0.52091753\n",
            "completed:  257 eopch out of:  1000 cost is :  1.3686273 accuracy:  0.54198235\n",
            "completed:  258 eopch out of:  1000 cost is :  1.3602667 accuracy:  0.5210438\n",
            "completed:  259 eopch out of:  1000 cost is :  1.363248 accuracy:  0.5420455\n",
            "completed:  260 eopch out of:  1000 cost is :  1.3550961 accuracy:  0.52102274\n",
            "completed:  261 eopch out of:  1000 cost is :  1.357881 accuracy:  0.5420665\n",
            "completed:  262 eopch out of:  1000 cost is :  1.3499728 accuracy:  0.52108586\n",
            "completed:  263 eopch out of:  1000 cost is :  1.3525927 accuracy:  0.5420455\n",
            "completed:  264 eopch out of:  1000 cost is :  1.3449228 accuracy:  0.52119106\n",
            "completed:  265 eopch out of:  1000 cost is :  1.347407 accuracy:  0.5421086\n",
            "completed:  266 eopch out of:  1000 cost is :  1.3399502 accuracy:  0.52117\n",
            "completed:  267 eopch out of:  1000 cost is :  1.3423064 accuracy:  0.5422559\n",
            "completed:  268 eopch out of:  1000 cost is :  1.3350643 accuracy:  0.5215067\n",
            "completed:  269 eopch out of:  1000 cost is :  1.3373295 accuracy:  0.5422769\n",
            "completed:  270 eopch out of:  1000 cost is :  1.3302962 accuracy:  0.5214857\n",
            "completed:  271 eopch out of:  1000 cost is :  1.33249 accuracy:  0.54236114\n",
            "completed:  272 eopch out of:  1000 cost is :  1.3256519 accuracy:  0.5216119\n",
            "completed:  273 eopch out of:  1000 cost is :  1.3277898 accuracy:  0.54246634\n",
            "completed:  274 eopch out of:  1000 cost is :  1.3211087 accuracy:  0.5215909\n",
            "completed:  275 eopch out of:  1000 cost is :  1.3231945 accuracy:  0.5425505\n",
            "completed:  276 eopch out of:  1000 cost is :  1.3166707 accuracy:  0.52180135\n",
            "completed:  277 eopch out of:  1000 cost is :  1.3186959 accuracy:  0.5426557\n",
            "completed:  278 eopch out of:  1000 cost is :  1.3123198 accuracy:  0.5219276\n",
            "completed:  279 eopch out of:  1000 cost is :  1.3142843 accuracy:  0.5427188\n",
            "completed:  280 eopch out of:  1000 cost is :  1.3080417 accuracy:  0.52213806\n",
            "completed:  281 eopch out of:  1000 cost is :  1.3099385 accuracy:  0.54276097\n",
            "completed:  282 eopch out of:  1000 cost is :  1.3038021 accuracy:  0.52247477\n",
            "completed:  283 eopch out of:  1000 cost is :  1.305586 accuracy:  0.542782\n",
            "completed:  284 eopch out of:  1000 cost is :  1.2995964 accuracy:  0.52257997\n",
            "completed:  285 eopch out of:  1000 cost is :  1.3013254 accuracy:  0.5428241\n",
            "completed:  286 eopch out of:  1000 cost is :  1.2954618 accuracy:  0.52276933\n",
            "completed:  287 eopch out of:  1000 cost is :  1.2971083 accuracy:  0.54284513\n",
            "completed:  288 eopch out of:  1000 cost is :  1.2913663 accuracy:  0.5228746\n",
            "completed:  289 eopch out of:  1000 cost is :  1.2929498 accuracy:  0.54284513\n",
            "completed:  290 eopch out of:  1000 cost is :  1.287343 accuracy:  0.523085\n",
            "completed:  291 eopch out of:  1000 cost is :  1.288847 accuracy:  0.54280305\n",
            "completed:  292 eopch out of:  1000 cost is :  1.2833567 accuracy:  0.5233165\n",
            "completed:  293 eopch out of:  1000 cost is :  1.2847769 accuracy:  0.54280305\n",
            "completed:  294 eopch out of:  1000 cost is :  1.2794254 accuracy:  0.5234217\n",
            "completed:  295 eopch out of:  1000 cost is :  1.2807688 accuracy:  0.5428662\n",
            "completed:  296 eopch out of:  1000 cost is :  1.2755451 accuracy:  0.5235269\n",
            "completed:  297 eopch out of:  1000 cost is :  1.2768146 accuracy:  0.54290825\n",
            "completed:  298 eopch out of:  1000 cost is :  1.2717265 accuracy:  0.52367425\n",
            "completed:  299 eopch out of:  1000 cost is :  1.2729337 accuracy:  0.5428872\n"
          ],
          "name": "stdout"
        },
        {
          "output_type": "stream",
          "text": [
            "completed:  300 eopch out of:  1000 cost is :  1.26797 accuracy:  0.5237584\n",
            "completed:  301 eopch out of:  1000 cost is :  1.2691281 accuracy:  0.5429293\n",
            "completed:  302 eopch out of:  1000 cost is :  1.2642912 accuracy:  0.5238426\n",
            "completed:  303 eopch out of:  1000 cost is :  1.2653852 accuracy:  0.54290825\n",
            "completed:  304 eopch out of:  1000 cost is :  1.2606616 accuracy:  0.52394783\n",
            "completed:  305 eopch out of:  1000 cost is :  1.2616827 accuracy:  0.54290825\n",
            "completed:  306 eopch out of:  1000 cost is :  1.2570835 accuracy:  0.5240741\n",
            "completed:  307 eopch out of:  1000 cost is :  1.2580416 accuracy:  0.54290825\n",
            "completed:  308 eopch out of:  1000 cost is :  1.2535659 accuracy:  0.52422136\n",
            "completed:  309 eopch out of:  1000 cost is :  1.2544761 accuracy:  0.5429714\n",
            "completed:  310 eopch out of:  1000 cost is :  1.2501267 accuracy:  0.52449495\n",
            "completed:  311 eopch out of:  1000 cost is :  1.2509639 accuracy:  0.5429924\n",
            "completed:  312 eopch out of:  1000 cost is :  1.2467139 accuracy:  0.5246633\n",
            "completed:  313 eopch out of:  1000 cost is :  1.2474761 accuracy:  0.5429924\n",
            "completed:  314 eopch out of:  1000 cost is :  1.2433385 accuracy:  0.5247475\n",
            "completed:  315 eopch out of:  1000 cost is :  1.244028 accuracy:  0.5430345\n",
            "completed:  316 eopch out of:  1000 cost is :  1.2399973 accuracy:  0.5248948\n",
            "completed:  317 eopch out of:  1000 cost is :  1.2406243 accuracy:  0.54305553\n",
            "completed:  318 eopch out of:  1000 cost is :  1.2367034 accuracy:  0.5250842\n",
            "completed:  319 eopch out of:  1000 cost is :  1.2372667 accuracy:  0.5429924\n",
            "completed:  320 eopch out of:  1000 cost is :  1.2334552 accuracy:  0.52527356\n",
            "completed:  321 eopch out of:  1000 cost is :  1.2339662 accuracy:  0.54295033\n",
            "completed:  322 eopch out of:  1000 cost is :  1.2302648 accuracy:  0.5253998\n",
            "completed:  323 eopch out of:  1000 cost is :  1.2307136 accuracy:  0.54301345\n",
            "completed:  324 eopch out of:  1000 cost is :  1.2271137 accuracy:  0.5255682\n",
            "completed:  325 eopch out of:  1000 cost is :  1.227508 accuracy:  0.5430976\n",
            "completed:  326 eopch out of:  1000 cost is :  1.2240026 accuracy:  0.52554715\n",
            "completed:  327 eopch out of:  1000 cost is :  1.2243379 accuracy:  0.54313976\n",
            "completed:  328 eopch out of:  1000 cost is :  1.2209282 accuracy:  0.5257365\n",
            "completed:  329 eopch out of:  1000 cost is :  1.2212039 accuracy:  0.5431608\n",
            "completed:  330 eopch out of:  1000 cost is :  1.2178797 accuracy:  0.52582073\n",
            "completed:  331 eopch out of:  1000 cost is :  1.2181004 accuracy:  0.5432239\n",
            "completed:  332 eopch out of:  1000 cost is :  1.214863 accuracy:  0.525968\n",
            "completed:  333 eopch out of:  1000 cost is :  1.2150446 accuracy:  0.54324496\n",
            "completed:  334 eopch out of:  1000 cost is :  1.2118872 accuracy:  0.5261153\n",
            "completed:  335 eopch out of:  1000 cost is :  1.2120228 accuracy:  0.54328704\n",
            "completed:  336 eopch out of:  1000 cost is :  1.2089368 accuracy:  0.52647305\n",
            "completed:  337 eopch out of:  1000 cost is :  1.2090303 accuracy:  0.54335016\n",
            "completed:  338 eopch out of:  1000 cost is :  1.2060202 accuracy:  0.52653617\n",
            "completed:  339 eopch out of:  1000 cost is :  1.206095 accuracy:  0.54339224\n",
            "completed:  340 eopch out of:  1000 cost is :  1.2031472 accuracy:  0.52670455\n",
            "completed:  341 eopch out of:  1000 cost is :  1.2032162 accuracy:  0.54339224\n",
            "completed:  342 eopch out of:  1000 cost is :  1.2003022 accuracy:  0.52670455\n",
            "completed:  343 eopch out of:  1000 cost is :  1.2004174 accuracy:  0.5434343\n",
            "completed:  344 eopch out of:  1000 cost is :  1.1975218 accuracy:  0.5266835\n",
            "completed:  345 eopch out of:  1000 cost is :  1.1976974 accuracy:  0.5434343\n",
            "completed:  346 eopch out of:  1000 cost is :  1.1947851 accuracy:  0.52674663\n",
            "completed:  347 eopch out of:  1000 cost is :  1.1949892 accuracy:  0.54345536\n",
            "completed:  348 eopch out of:  1000 cost is :  1.1920652 accuracy:  0.5268308\n",
            "completed:  349 eopch out of:  1000 cost is :  1.192258 accuracy:  0.54345536\n"
          ],
          "name": "stdout"
        },
        {
          "output_type": "stream",
          "text": [
            "completed:  350 eopch out of:  1000 cost is :  1.189367 accuracy:  0.5268308\n",
            "completed:  351 eopch out of:  1000 cost is :  1.1895533 accuracy:  0.5434764\n",
            "completed:  352 eopch out of:  1000 cost is :  1.1867032 accuracy:  0.5268729\n",
            "completed:  353 eopch out of:  1000 cost is :  1.1868945 accuracy:  0.5434975\n",
            "completed:  354 eopch out of:  1000 cost is :  1.1840856 accuracy:  0.5269571\n",
            "completed:  355 eopch out of:  1000 cost is :  1.1842703 accuracy:  0.5435606\n",
            "completed:  356 eopch out of:  1000 cost is :  1.1814975 accuracy:  0.52697814\n",
            "completed:  357 eopch out of:  1000 cost is :  1.1816986 accuracy:  0.5436448\n",
            "completed:  358 eopch out of:  1000 cost is :  1.1789466 accuracy:  0.5270623\n",
            "completed:  359 eopch out of:  1000 cost is :  1.1791458 accuracy:  0.5436448\n",
            "completed:  360 eopch out of:  1000 cost is :  1.1764002 accuracy:  0.52714646\n",
            "completed:  361 eopch out of:  1000 cost is :  1.176602 accuracy:  0.5437079\n",
            "completed:  362 eopch out of:  1000 cost is :  1.1738989 accuracy:  0.52714646\n",
            "completed:  363 eopch out of:  1000 cost is :  1.174101 accuracy:  0.54368687\n",
            "completed:  364 eopch out of:  1000 cost is :  1.1714404 accuracy:  0.52725166\n",
            "completed:  365 eopch out of:  1000 cost is :  1.171641 accuracy:  0.54372895\n",
            "completed:  366 eopch out of:  1000 cost is :  1.1690183 accuracy:  0.52731484\n",
            "completed:  367 eopch out of:  1000 cost is :  1.1692194 accuracy:  0.54368687\n",
            "completed:  368 eopch out of:  1000 cost is :  1.1666267 accuracy:  0.5273359\n",
            "completed:  369 eopch out of:  1000 cost is :  1.1668615 accuracy:  0.54368687\n",
            "completed:  370 eopch out of:  1000 cost is :  1.1642827 accuracy:  0.527399\n",
            "completed:  371 eopch out of:  1000 cost is :  1.1645122 accuracy:  0.54372895\n",
            "completed:  372 eopch out of:  1000 cost is :  1.1619797 accuracy:  0.5274621\n",
            "completed:  373 eopch out of:  1000 cost is :  1.1622117 accuracy:  0.54375\n",
            "completed:  374 eopch out of:  1000 cost is :  1.1597028 accuracy:  0.5276094\n",
            "completed:  375 eopch out of:  1000 cost is :  1.1599104 accuracy:  0.54375\n",
            "completed:  376 eopch out of:  1000 cost is :  1.1574349 accuracy:  0.52775675\n",
            "completed:  377 eopch out of:  1000 cost is :  1.1576414 accuracy:  0.543771\n",
            "completed:  378 eopch out of:  1000 cost is :  1.1551957 accuracy:  0.5279882\n",
            "completed:  379 eopch out of:  1000 cost is :  1.1553679 accuracy:  0.54375\n",
            "completed:  380 eopch out of:  1000 cost is :  1.152955 accuracy:  0.5281145\n",
            "completed:  381 eopch out of:  1000 cost is :  1.153091 accuracy:  0.54379207\n",
            "completed:  382 eopch out of:  1000 cost is :  1.150713 accuracy:  0.528367\n",
            "completed:  383 eopch out of:  1000 cost is :  1.150829 accuracy:  0.5438131\n",
            "completed:  384 eopch out of:  1000 cost is :  1.1484933 accuracy:  0.528388\n",
            "completed:  385 eopch out of:  1000 cost is :  1.1485955 accuracy:  0.5438552\n",
            "completed:  386 eopch out of:  1000 cost is :  1.146295 accuracy:  0.52840906\n",
            "completed:  387 eopch out of:  1000 cost is :  1.1463813 accuracy:  0.54383415\n",
            "completed:  388 eopch out of:  1000 cost is :  1.1441051 accuracy:  0.52843016\n",
            "completed:  389 eopch out of:  1000 cost is :  1.1441785 accuracy:  0.5438131\n",
            "completed:  390 eopch out of:  1000 cost is :  1.1419259 accuracy:  0.52843016\n",
            "completed:  391 eopch out of:  1000 cost is :  1.1419957 accuracy:  0.5438763\n",
            "completed:  392 eopch out of:  1000 cost is :  1.1397706 accuracy:  0.52847224\n",
            "completed:  393 eopch out of:  1000 cost is :  1.1398374 accuracy:  0.5438552\n",
            "completed:  394 eopch out of:  1000 cost is :  1.1376354 accuracy:  0.5285985\n",
            "completed:  395 eopch out of:  1000 cost is :  1.1377048 accuracy:  0.5438131\n",
            "completed:  396 eopch out of:  1000 cost is :  1.1355184 accuracy:  0.52853537\n",
            "completed:  397 eopch out of:  1000 cost is :  1.1355886 accuracy:  0.54389733\n",
            "completed:  398 eopch out of:  1000 cost is :  1.1334196 accuracy:  0.52857745\n",
            "completed:  399 eopch out of:  1000 cost is :  1.1334912 accuracy:  0.5439394\n"
          ],
          "name": "stdout"
        },
        {
          "output_type": "stream",
          "text": [
            "completed:  400 eopch out of:  1000 cost is :  1.1313425 accuracy:  0.52857745\n",
            "completed:  401 eopch out of:  1000 cost is :  1.1314188 accuracy:  0.5439184\n",
            "completed:  402 eopch out of:  1000 cost is :  1.1292903 accuracy:  0.5285985\n",
            "completed:  403 eopch out of:  1000 cost is :  1.1293703 accuracy:  0.5439184\n",
            "completed:  404 eopch out of:  1000 cost is :  1.1272665 accuracy:  0.5285564\n",
            "completed:  405 eopch out of:  1000 cost is :  1.1273483 accuracy:  0.54389733\n",
            "completed:  406 eopch out of:  1000 cost is :  1.1252549 accuracy:  0.5285985\n",
            "completed:  407 eopch out of:  1000 cost is :  1.1253335 accuracy:  0.54396045\n",
            "completed:  408 eopch out of:  1000 cost is :  1.1232584 accuracy:  0.5287458\n",
            "completed:  409 eopch out of:  1000 cost is :  1.1233331 accuracy:  0.5439394\n",
            "completed:  410 eopch out of:  1000 cost is :  1.1212792 accuracy:  0.52880895\n",
            "completed:  411 eopch out of:  1000 cost is :  1.1213632 accuracy:  0.5439394\n",
            "completed:  412 eopch out of:  1000 cost is :  1.119329 accuracy:  0.52891415\n",
            "completed:  413 eopch out of:  1000 cost is :  1.1194186 accuracy:  0.54396045\n",
            "completed:  414 eopch out of:  1000 cost is :  1.117397 accuracy:  0.5288721\n",
            "completed:  415 eopch out of:  1000 cost is :  1.1175063 accuracy:  0.5439394\n",
            "completed:  416 eopch out of:  1000 cost is :  1.1154903 accuracy:  0.52885103\n",
            "completed:  417 eopch out of:  1000 cost is :  1.1156043 accuracy:  0.5439815\n",
            "completed:  418 eopch out of:  1000 cost is :  1.1135813 accuracy:  0.52880895\n",
            "completed:  419 eopch out of:  1000 cost is :  1.1137053 accuracy:  0.54396045\n",
            "completed:  420 eopch out of:  1000 cost is :  1.1116962 accuracy:  0.5287668\n",
            "completed:  421 eopch out of:  1000 cost is :  1.111836 accuracy:  0.54396045\n",
            "completed:  422 eopch out of:  1000 cost is :  1.1098478 accuracy:  0.52895623\n",
            "completed:  423 eopch out of:  1000 cost is :  1.1100008 accuracy:  0.54396045\n",
            "completed:  424 eopch out of:  1000 cost is :  1.1080234 accuracy:  0.5289773\n",
            "completed:  425 eopch out of:  1000 cost is :  1.1081703 accuracy:  0.5439394\n",
            "completed:  426 eopch out of:  1000 cost is :  1.1062129 accuracy:  0.5291035\n",
            "completed:  427 eopch out of:  1000 cost is :  1.1063606 accuracy:  0.5439394\n",
            "completed:  428 eopch out of:  1000 cost is :  1.104416 accuracy:  0.5291456\n",
            "completed:  429 eopch out of:  1000 cost is :  1.1045678 accuracy:  0.5439394\n",
            "completed:  430 eopch out of:  1000 cost is :  1.1026428 accuracy:  0.5292088\n",
            "completed:  431 eopch out of:  1000 cost is :  1.1028013 accuracy:  0.54396045\n",
            "completed:  432 eopch out of:  1000 cost is :  1.1008952 accuracy:  0.5292298\n",
            "completed:  433 eopch out of:  1000 cost is :  1.1010619 accuracy:  0.54396045\n",
            "completed:  434 eopch out of:  1000 cost is :  1.0991722 accuracy:  0.52925086\n",
            "completed:  435 eopch out of:  1000 cost is :  1.0993457 accuracy:  0.5439394\n",
            "completed:  436 eopch out of:  1000 cost is :  1.0974654 accuracy:  0.52929294\n",
            "completed:  437 eopch out of:  1000 cost is :  1.0976511 accuracy:  0.5439184\n",
            "completed:  438 eopch out of:  1000 cost is :  1.0957822 accuracy:  0.52939814\n",
            "completed:  439 eopch out of:  1000 cost is :  1.0959777 accuracy:  0.5439815\n",
            "completed:  440 eopch out of:  1000 cost is :  1.0941122 accuracy:  0.52946126\n",
            "completed:  441 eopch out of:  1000 cost is :  1.0943112 accuracy:  0.54396045\n",
            "completed:  442 eopch out of:  1000 cost is :  1.0924474 accuracy:  0.52958757\n",
            "completed:  443 eopch out of:  1000 cost is :  1.0926645 accuracy:  0.5440446\n",
            "completed:  444 eopch out of:  1000 cost is :  1.090809 accuracy:  0.52962965\n",
            "completed:  445 eopch out of:  1000 cost is :  1.0910448 accuracy:  0.54406565\n",
            "completed:  446 eopch out of:  1000 cost is :  1.0891882 accuracy:  0.52977693\n",
            "completed:  447 eopch out of:  1000 cost is :  1.089439 accuracy:  0.54410774\n",
            "completed:  448 eopch out of:  1000 cost is :  1.0875887 accuracy:  0.52984005\n",
            "completed:  449 eopch out of:  1000 cost is :  1.0878669 accuracy:  0.5441498\n"
          ],
          "name": "stdout"
        },
        {
          "output_type": "stream",
          "text": [
            "completed:  450 eopch out of:  1000 cost is :  1.0860082 accuracy:  0.5299453\n",
            "completed:  451 eopch out of:  1000 cost is :  1.0863101 accuracy:  0.54410774\n",
            "completed:  452 eopch out of:  1000 cost is :  1.0844406 accuracy:  0.5299453\n",
            "completed:  453 eopch out of:  1000 cost is :  1.0847675 accuracy:  0.54410774\n",
            "completed:  454 eopch out of:  1000 cost is :  1.0828803 accuracy:  0.5300505\n",
            "completed:  455 eopch out of:  1000 cost is :  1.0832155 accuracy:  0.54406565\n",
            "completed:  456 eopch out of:  1000 cost is :  1.0813284 accuracy:  0.5300295\n",
            "completed:  457 eopch out of:  1000 cost is :  1.0816818 accuracy:  0.5441288\n",
            "completed:  458 eopch out of:  1000 cost is :  1.079791 accuracy:  0.53007156\n",
            "completed:  459 eopch out of:  1000 cost is :  1.0801642 accuracy:  0.5441498\n",
            "completed:  460 eopch out of:  1000 cost is :  1.0782676 accuracy:  0.53028196\n",
            "completed:  461 eopch out of:  1000 cost is :  1.0786672 accuracy:  0.54421294\n",
            "completed:  462 eopch out of:  1000 cost is :  1.0767592 accuracy:  0.530303\n",
            "completed:  463 eopch out of:  1000 cost is :  1.0771856 accuracy:  0.544234\n",
            "completed:  464 eopch out of:  1000 cost is :  1.0752592 accuracy:  0.53034514\n",
            "completed:  465 eopch out of:  1000 cost is :  1.0757142 accuracy:  0.54421294\n",
            "completed:  466 eopch out of:  1000 cost is :  1.0737664 accuracy:  0.53051347\n",
            "completed:  467 eopch out of:  1000 cost is :  1.0742569 accuracy:  0.5442551\n",
            "completed:  468 eopch out of:  1000 cost is :  1.0722917 accuracy:  0.5306397\n",
            "completed:  469 eopch out of:  1000 cost is :  1.0728177 accuracy:  0.5442551\n",
            "completed:  470 eopch out of:  1000 cost is :  1.0708328 accuracy:  0.530766\n",
            "completed:  471 eopch out of:  1000 cost is :  1.0713952 accuracy:  0.5442761\n",
            "completed:  472 eopch out of:  1000 cost is :  1.0694013 accuracy:  0.5308502\n",
            "completed:  473 eopch out of:  1000 cost is :  1.0699906 accuracy:  0.5442761\n",
            "completed:  474 eopch out of:  1000 cost is :  1.067989 accuracy:  0.5309133\n",
            "completed:  475 eopch out of:  1000 cost is :  1.0685917 accuracy:  0.54433924\n",
            "completed:  476 eopch out of:  1000 cost is :  1.0666021 accuracy:  0.5310606\n",
            "completed:  477 eopch out of:  1000 cost is :  1.0672138 accuracy:  0.5443813\n",
            "completed:  478 eopch out of:  1000 cost is :  1.0652338 accuracy:  0.5311027\n",
            "completed:  479 eopch out of:  1000 cost is :  1.0658537 accuracy:  0.54440236\n",
            "completed:  480 eopch out of:  1000 cost is :  1.06388 accuracy:  0.53116584\n",
            "completed:  481 eopch out of:  1000 cost is :  1.064507 accuracy:  0.54440236\n",
            "completed:  482 eopch out of:  1000 cost is :  1.0625403 accuracy:  0.53125\n",
            "completed:  483 eopch out of:  1000 cost is :  1.0631746 accuracy:  0.5444865\n",
            "completed:  484 eopch out of:  1000 cost is :  1.0612092 accuracy:  0.53127104\n",
            "completed:  485 eopch out of:  1000 cost is :  1.061847 accuracy:  0.54444444\n",
            "completed:  486 eopch out of:  1000 cost is :  1.059883 accuracy:  0.5312921\n",
            "completed:  487 eopch out of:  1000 cost is :  1.0605282 accuracy:  0.54444444\n",
            "completed:  488 eopch out of:  1000 cost is :  1.0585738 accuracy:  0.5313552\n",
            "completed:  489 eopch out of:  1000 cost is :  1.0592271 accuracy:  0.5444865\n",
            "completed:  490 eopch out of:  1000 cost is :  1.0572776 accuracy:  0.5314394\n",
            "completed:  491 eopch out of:  1000 cost is :  1.0579417 accuracy:  0.5444865\n",
            "completed:  492 eopch out of:  1000 cost is :  1.0559953 accuracy:  0.5314183\n",
            "completed:  493 eopch out of:  1000 cost is :  1.0566537 accuracy:  0.5445286\n",
            "completed:  494 eopch out of:  1000 cost is :  1.0547093 accuracy:  0.53146046\n",
            "completed:  495 eopch out of:  1000 cost is :  1.0553796 accuracy:  0.5445286\n",
            "completed:  496 eopch out of:  1000 cost is :  1.0534483 accuracy:  0.5314394\n",
            "completed:  497 eopch out of:  1000 cost is :  1.0541275 accuracy:  0.5444865\n",
            "completed:  498 eopch out of:  1000 cost is :  1.0521942 accuracy:  0.53150254\n",
            "completed:  499 eopch out of:  1000 cost is :  1.0528823 accuracy:  0.54450756\n"
          ],
          "name": "stdout"
        },
        {
          "output_type": "stream",
          "text": [
            "completed:  500 eopch out of:  1000 cost is :  1.0509564 accuracy:  0.5315446\n",
            "completed:  501 eopch out of:  1000 cost is :  1.0516577 accuracy:  0.54454964\n",
            "completed:  502 eopch out of:  1000 cost is :  1.0497371 accuracy:  0.5316288\n",
            "completed:  503 eopch out of:  1000 cost is :  1.050446 accuracy:  0.5445286\n",
            "completed:  504 eopch out of:  1000 cost is :  1.0485277 accuracy:  0.53167087\n",
            "completed:  505 eopch out of:  1000 cost is :  1.0492436 accuracy:  0.54450756\n",
            "completed:  506 eopch out of:  1000 cost is :  1.0473287 accuracy:  0.5316919\n",
            "completed:  507 eopch out of:  1000 cost is :  1.0480528 accuracy:  0.5445286\n",
            "completed:  508 eopch out of:  1000 cost is :  1.0461416 accuracy:  0.5317971\n",
            "completed:  509 eopch out of:  1000 cost is :  1.0468757 accuracy:  0.5445286\n",
            "completed:  510 eopch out of:  1000 cost is :  1.0449666 accuracy:  0.5317761\n",
            "completed:  511 eopch out of:  1000 cost is :  1.0457082 accuracy:  0.5445286\n",
            "completed:  512 eopch out of:  1000 cost is :  1.0438019 accuracy:  0.5318603\n",
            "completed:  513 eopch out of:  1000 cost is :  1.0445533 accuracy:  0.5445286\n",
            "completed:  514 eopch out of:  1000 cost is :  1.0426458 accuracy:  0.5319234\n",
            "completed:  515 eopch out of:  1000 cost is :  1.0434061 accuracy:  0.54463387\n",
            "completed:  516 eopch out of:  1000 cost is :  1.0415014 accuracy:  0.5320286\n",
            "completed:  517 eopch out of:  1000 cost is :  1.0422759 accuracy:  0.5446549\n",
            "completed:  518 eopch out of:  1000 cost is :  1.0403708 accuracy:  0.5320707\n",
            "completed:  519 eopch out of:  1000 cost is :  1.0411586 accuracy:  0.54467595\n",
            "completed:  520 eopch out of:  1000 cost is :  1.039253 accuracy:  0.53204966\n",
            "completed:  521 eopch out of:  1000 cost is :  1.0400529 accuracy:  0.5447601\n",
            "completed:  522 eopch out of:  1000 cost is :  1.0381448 accuracy:  0.53215486\n",
            "completed:  523 eopch out of:  1000 cost is :  1.0389565 accuracy:  0.5448022\n",
            "completed:  524 eopch out of:  1000 cost is :  1.0370461 accuracy:  0.532197\n",
            "completed:  525 eopch out of:  1000 cost is :  1.0378696 accuracy:  0.54484427\n",
            "completed:  526 eopch out of:  1000 cost is :  1.0359571 accuracy:  0.532197\n",
            "completed:  527 eopch out of:  1000 cost is :  1.0367923 accuracy:  0.5448653\n",
            "completed:  528 eopch out of:  1000 cost is :  1.0348794 accuracy:  0.53228116\n",
            "completed:  529 eopch out of:  1000 cost is :  1.0357279 accuracy:  0.5449074\n",
            "completed:  530 eopch out of:  1000 cost is :  1.0338093 accuracy:  0.53238636\n",
            "completed:  531 eopch out of:  1000 cost is :  1.03466 accuracy:  0.54492843\n",
            "completed:  532 eopch out of:  1000 cost is :  1.0327293 accuracy:  0.5325758\n",
            "completed:  533 eopch out of:  1000 cost is :  1.0335891 accuracy:  0.5449074\n",
            "completed:  534 eopch out of:  1000 cost is :  1.0316536 accuracy:  0.5327862\n",
            "completed:  535 eopch out of:  1000 cost is :  1.0325257 accuracy:  0.54492843\n",
            "completed:  536 eopch out of:  1000 cost is :  1.0305918 accuracy:  0.5329546\n",
            "completed:  537 eopch out of:  1000 cost is :  1.0314771 accuracy:  0.54488635\n",
            "completed:  538 eopch out of:  1000 cost is :  1.0295383 accuracy:  0.5329335\n",
            "completed:  539 eopch out of:  1000 cost is :  1.0304348 accuracy:  0.54492843\n",
            "completed:  540 eopch out of:  1000 cost is :  1.0284916 accuracy:  0.53303874\n",
            "completed:  541 eopch out of:  1000 cost is :  1.0294002 accuracy:  0.54492843\n",
            "completed:  542 eopch out of:  1000 cost is :  1.0274546 accuracy:  0.533186\n",
            "completed:  543 eopch out of:  1000 cost is :  1.0283759 accuracy:  0.5449495\n",
            "completed:  544 eopch out of:  1000 cost is :  1.0264215 accuracy:  0.5330808\n",
            "completed:  545 eopch out of:  1000 cost is :  1.027354 accuracy:  0.5449705\n",
            "completed:  546 eopch out of:  1000 cost is :  1.025395 accuracy:  0.533165\n",
            "completed:  547 eopch out of:  1000 cost is :  1.0263417 accuracy:  0.54501265\n",
            "completed:  548 eopch out of:  1000 cost is :  1.0243787 accuracy:  0.53331226\n",
            "completed:  549 eopch out of:  1000 cost is :  1.025336 accuracy:  0.54501265\n"
          ],
          "name": "stdout"
        },
        {
          "output_type": "stream",
          "text": [
            "completed:  550 eopch out of:  1000 cost is :  1.0233659 accuracy:  0.5333965\n",
            "completed:  551 eopch out of:  1000 cost is :  1.02434 accuracy:  0.54501265\n",
            "completed:  552 eopch out of:  1000 cost is :  1.0223693 accuracy:  0.53343856\n",
            "completed:  553 eopch out of:  1000 cost is :  1.0233573 accuracy:  0.54501265\n",
            "completed:  554 eopch out of:  1000 cost is :  1.0213823 accuracy:  0.5336069\n",
            "completed:  555 eopch out of:  1000 cost is :  1.022384 accuracy:  0.5450337\n",
            "completed:  556 eopch out of:  1000 cost is :  1.020403 accuracy:  0.53371215\n",
            "completed:  557 eopch out of:  1000 cost is :  1.021416 accuracy:  0.54511786\n",
            "completed:  558 eopch out of:  1000 cost is :  1.0194315 accuracy:  0.5338805\n",
            "completed:  559 eopch out of:  1000 cost is :  1.0204574 accuracy:  0.5451389\n",
            "completed:  560 eopch out of:  1000 cost is :  1.0184683 accuracy:  0.5338805\n",
            "completed:  561 eopch out of:  1000 cost is :  1.0195057 accuracy:  0.54515994\n",
            "completed:  562 eopch out of:  1000 cost is :  1.0175135 accuracy:  0.534112\n",
            "completed:  563 eopch out of:  1000 cost is :  1.0185629 accuracy:  0.54515994\n",
            "completed:  564 eopch out of:  1000 cost is :  1.0165676 accuracy:  0.5342172\n",
            "completed:  565 eopch out of:  1000 cost is :  1.0176284 accuracy:  0.5451389\n",
            "completed:  566 eopch out of:  1000 cost is :  1.0156281 accuracy:  0.5343434\n",
            "completed:  567 eopch out of:  1000 cost is :  1.0167005 accuracy:  0.545181\n",
            "completed:  568 eopch out of:  1000 cost is :  1.0146978 accuracy:  0.5344486\n",
            "completed:  569 eopch out of:  1000 cost is :  1.015781 accuracy:  0.545181\n",
            "completed:  570 eopch out of:  1000 cost is :  1.0137731 accuracy:  0.53440654\n",
            "completed:  571 eopch out of:  1000 cost is :  1.0148647 accuracy:  0.54515994\n",
            "completed:  572 eopch out of:  1000 cost is :  1.0128537 accuracy:  0.5344697\n",
            "completed:  573 eopch out of:  1000 cost is :  1.0139585 accuracy:  0.545181\n",
            "completed:  574 eopch out of:  1000 cost is :  1.01194 accuracy:  0.5345539\n",
            "completed:  575 eopch out of:  1000 cost is :  1.0130556 accuracy:  0.545181\n",
            "completed:  576 eopch out of:  1000 cost is :  1.0110319 accuracy:  0.5345749\n",
            "completed:  577 eopch out of:  1000 cost is :  1.0121582 accuracy:  0.545202\n",
            "completed:  578 eopch out of:  1000 cost is :  1.0101316 accuracy:  0.5345749\n",
            "completed:  579 eopch out of:  1000 cost is :  1.0112695 accuracy:  0.54522306\n",
            "completed:  580 eopch out of:  1000 cost is :  1.00924 accuracy:  0.534617\n",
            "completed:  581 eopch out of:  1000 cost is :  1.0103897 accuracy:  0.545181\n",
            "completed:  582 eopch out of:  1000 cost is :  1.0083547 accuracy:  0.5347222\n",
            "completed:  583 eopch out of:  1000 cost is :  1.0095137 accuracy:  0.545181\n",
            "completed:  584 eopch out of:  1000 cost is :  1.0074763 accuracy:  0.53478533\n",
            "completed:  585 eopch out of:  1000 cost is :  1.0086457 accuracy:  0.54515994\n",
            "completed:  586 eopch out of:  1000 cost is :  1.0066057 accuracy:  0.5348275\n",
            "completed:  587 eopch out of:  1000 cost is :  1.0077841 accuracy:  0.545202\n",
            "completed:  588 eopch out of:  1000 cost is :  1.0057443 accuracy:  0.53497475\n",
            "completed:  589 eopch out of:  1000 cost is :  1.006933 accuracy:  0.54522306\n",
            "completed:  590 eopch out of:  1000 cost is :  1.0048892 accuracy:  0.53512204\n",
            "completed:  591 eopch out of:  1000 cost is :  1.0060862 accuracy:  0.545202\n",
            "completed:  592 eopch out of:  1000 cost is :  1.0040405 accuracy:  0.5351641\n",
            "completed:  593 eopch out of:  1000 cost is :  1.0052468 accuracy:  0.54522306\n",
            "completed:  594 eopch out of:  1000 cost is :  1.0032016 accuracy:  0.53531146\n",
            "completed:  595 eopch out of:  1000 cost is :  1.0044185 accuracy:  0.5452441\n",
            "completed:  596 eopch out of:  1000 cost is :  1.0023693 accuracy:  0.5354377\n",
            "completed:  597 eopch out of:  1000 cost is :  1.0035905 accuracy:  0.5452441\n",
            "completed:  598 eopch out of:  1000 cost is :  1.0015395 accuracy:  0.5355008\n",
            "completed:  599 eopch out of:  1000 cost is :  1.0027702 accuracy:  0.5452441\n"
          ],
          "name": "stdout"
        },
        {
          "output_type": "stream",
          "text": [
            "completed:  600 eopch out of:  1000 cost is :  1.0007191 accuracy:  0.53558505\n",
            "completed:  601 eopch out of:  1000 cost is :  1.0019578 accuracy:  0.54526514\n",
            "completed:  602 eopch out of:  1000 cost is :  0.99990726 accuracy:  0.53569025\n",
            "completed:  603 eopch out of:  1000 cost is :  1.0011545 accuracy:  0.54526514\n",
            "completed:  604 eopch out of:  1000 cost is :  0.999102 accuracy:  0.53575337\n",
            "completed:  605 eopch out of:  1000 cost is :  1.000355 accuracy:  0.54532826\n",
            "completed:  606 eopch out of:  1000 cost is :  0.99829876 accuracy:  0.53575337\n",
            "completed:  607 eopch out of:  1000 cost is :  0.99955595 accuracy:  0.5453704\n",
            "completed:  608 eopch out of:  1000 cost is :  0.99750215 accuracy:  0.53583753\n",
            "completed:  609 eopch out of:  1000 cost is :  0.9987668 accuracy:  0.54539144\n",
            "completed:  610 eopch out of:  1000 cost is :  0.9967139 accuracy:  0.5360059\n",
            "completed:  611 eopch out of:  1000 cost is :  0.9979849 accuracy:  0.54539144\n",
            "completed:  612 eopch out of:  1000 cost is :  0.99592596 accuracy:  0.53613216\n",
            "completed:  613 eopch out of:  1000 cost is :  0.99719954 accuracy:  0.54539144\n",
            "completed:  614 eopch out of:  1000 cost is :  0.99514365 accuracy:  0.5361953\n",
            "completed:  615 eopch out of:  1000 cost is :  0.99642223 accuracy:  0.5453493\n",
            "completed:  616 eopch out of:  1000 cost is :  0.9943685 accuracy:  0.5363426\n",
            "completed:  617 eopch out of:  1000 cost is :  0.99565387 accuracy:  0.54532826\n",
            "completed:  618 eopch out of:  1000 cost is :  0.9935994 accuracy:  0.5364268\n",
            "completed:  619 eopch out of:  1000 cost is :  0.9948913 accuracy:  0.5453072\n",
            "completed:  620 eopch out of:  1000 cost is :  0.9928377 accuracy:  0.536553\n",
            "completed:  621 eopch out of:  1000 cost is :  0.9941326 accuracy:  0.5453493\n",
            "completed:  622 eopch out of:  1000 cost is :  0.99207884 accuracy:  0.5367214\n",
            "completed:  623 eopch out of:  1000 cost is :  0.9933787 accuracy:  0.5453704\n",
            "completed:  624 eopch out of:  1000 cost is :  0.9913274 accuracy:  0.5368687\n",
            "completed:  625 eopch out of:  1000 cost is :  0.9926326 accuracy:  0.5454125\n",
            "completed:  626 eopch out of:  1000 cost is :  0.9905811 accuracy:  0.5369318\n",
            "completed:  627 eopch out of:  1000 cost is :  0.99189085 accuracy:  0.5454756\n",
            "completed:  628 eopch out of:  1000 cost is :  0.9898456 accuracy:  0.5370791\n",
            "completed:  629 eopch out of:  1000 cost is :  0.99116343 accuracy:  0.5454756\n",
            "completed:  630 eopch out of:  1000 cost is :  0.9891194 accuracy:  0.53718436\n",
            "completed:  631 eopch out of:  1000 cost is :  0.99043804 accuracy:  0.5454756\n",
            "completed:  632 eopch out of:  1000 cost is :  0.9883958 accuracy:  0.53718436\n",
            "completed:  633 eopch out of:  1000 cost is :  0.989717 accuracy:  0.5455387\n",
            "completed:  634 eopch out of:  1000 cost is :  0.9876802 accuracy:  0.5372475\n",
            "completed:  635 eopch out of:  1000 cost is :  0.9890056 accuracy:  0.5455808\n",
            "completed:  636 eopch out of:  1000 cost is :  0.98697037 accuracy:  0.5372685\n",
            "completed:  637 eopch out of:  1000 cost is :  0.98829734 accuracy:  0.5455808\n",
            "completed:  638 eopch out of:  1000 cost is :  0.98626584 accuracy:  0.53722644\n",
            "completed:  639 eopch out of:  1000 cost is :  0.9875944 accuracy:  0.54560184\n",
            "completed:  640 eopch out of:  1000 cost is :  0.98556745 accuracy:  0.53733164\n",
            "completed:  641 eopch out of:  1000 cost is :  0.98689777 accuracy:  0.54555976\n",
            "completed:  642 eopch out of:  1000 cost is :  0.9848747 accuracy:  0.53743684\n",
            "completed:  643 eopch out of:  1000 cost is :  0.9862064 accuracy:  0.5455387\n",
            "completed:  644 eopch out of:  1000 cost is :  0.98418784 accuracy:  0.5375842\n",
            "completed:  645 eopch out of:  1000 cost is :  0.98552096 accuracy:  0.54555976\n",
            "completed:  646 eopch out of:  1000 cost is :  0.9835069 accuracy:  0.5376473\n",
            "completed:  647 eopch out of:  1000 cost is :  0.9848408 accuracy:  0.54560184\n",
            "completed:  648 eopch out of:  1000 cost is :  0.9828284 accuracy:  0.5377946\n"
          ],
          "name": "stdout"
        },
        {
          "output_type": "stream",
          "text": [
            "completed:  649 eopch out of:  1000 cost is :  0.9841603 accuracy:  0.5456229\n",
            "completed:  650 eopch out of:  1000 cost is :  0.9821521 accuracy:  0.53794193\n",
            "completed:  651 eopch out of:  1000 cost is :  0.9834859 accuracy:  0.54560184\n",
            "completed:  652 eopch out of:  1000 cost is :  0.9814802 accuracy:  0.5380892\n",
            "completed:  653 eopch out of:  1000 cost is :  0.9828136 accuracy:  0.54560184\n",
            "completed:  654 eopch out of:  1000 cost is :  0.98081213 accuracy:  0.5381313\n",
            "completed:  655 eopch out of:  1000 cost is :  0.98214656 accuracy:  0.54560184\n",
            "completed:  656 eopch out of:  1000 cost is :  0.98014957 accuracy:  0.5382997\n",
            "completed:  657 eopch out of:  1000 cost is :  0.98148566 accuracy:  0.54560184\n",
            "completed:  658 eopch out of:  1000 cost is :  0.97949266 accuracy:  0.5383628\n",
            "completed:  659 eopch out of:  1000 cost is :  0.9808295 accuracy:  0.5455808\n",
            "completed:  660 eopch out of:  1000 cost is :  0.9788413 accuracy:  0.5384049\n",
            "completed:  661 eopch out of:  1000 cost is :  0.98017925 accuracy:  0.54555976\n",
            "completed:  662 eopch out of:  1000 cost is :  0.97819585 accuracy:  0.538468\n",
            "completed:  663 eopch out of:  1000 cost is :  0.9795341 accuracy:  0.54555976\n",
            "completed:  664 eopch out of:  1000 cost is :  0.977556 accuracy:  0.5385311\n",
            "completed:  665 eopch out of:  1000 cost is :  0.9788955 accuracy:  0.5456229\n",
            "completed:  666 eopch out of:  1000 cost is :  0.97692156 accuracy:  0.5385732\n",
            "completed:  667 eopch out of:  1000 cost is :  0.9782598 accuracy:  0.54566497\n",
            "completed:  668 eopch out of:  1000 cost is :  0.97628915 accuracy:  0.53861535\n",
            "completed:  669 eopch out of:  1000 cost is :  0.9776275 accuracy:  0.54566497\n",
            "completed:  670 eopch out of:  1000 cost is :  0.9756601 accuracy:  0.5385943\n",
            "completed:  671 eopch out of:  1000 cost is :  0.97699505 accuracy:  0.54566497\n",
            "completed:  672 eopch out of:  1000 cost is :  0.97502995 accuracy:  0.5386995\n",
            "completed:  673 eopch out of:  1000 cost is :  0.9763654 accuracy:  0.54570705\n",
            "completed:  674 eopch out of:  1000 cost is :  0.9744051 accuracy:  0.5388047\n",
            "completed:  675 eopch out of:  1000 cost is :  0.97574115 accuracy:  0.545686\n",
            "completed:  676 eopch out of:  1000 cost is :  0.97378504 accuracy:  0.538952\n",
            "completed:  677 eopch out of:  1000 cost is :  0.9751222 accuracy:  0.54570705\n",
            "completed:  678 eopch out of:  1000 cost is :  0.9731717 accuracy:  0.5390362\n",
            "completed:  679 eopch out of:  1000 cost is :  0.97450894 accuracy:  0.5457281\n",
            "completed:  680 eopch out of:  1000 cost is :  0.97256213 accuracy:  0.5392256\n",
            "completed:  681 eopch out of:  1000 cost is :  0.97389865 accuracy:  0.54570705\n",
            "completed:  682 eopch out of:  1000 cost is :  0.97195673 accuracy:  0.5393519\n",
            "completed:  683 eopch out of:  1000 cost is :  0.9732928 accuracy:  0.54570705\n",
            "completed:  684 eopch out of:  1000 cost is :  0.9713554 accuracy:  0.5395202\n",
            "completed:  685 eopch out of:  1000 cost is :  0.9726918 accuracy:  0.5457281\n",
            "completed:  686 eopch out of:  1000 cost is :  0.9707582 accuracy:  0.5394571\n",
            "completed:  687 eopch out of:  1000 cost is :  0.9720938 accuracy:  0.5457492\n",
            "completed:  688 eopch out of:  1000 cost is :  0.97016555 accuracy:  0.5394571\n",
            "completed:  689 eopch out of:  1000 cost is :  0.97150105 accuracy:  0.54579127\n",
            "completed:  690 eopch out of:  1000 cost is :  0.969578 accuracy:  0.53954124\n",
            "completed:  691 eopch out of:  1000 cost is :  0.9709136 accuracy:  0.54579127\n",
            "completed:  692 eopch out of:  1000 cost is :  0.9689961 accuracy:  0.5396885\n",
            "completed:  693 eopch out of:  1000 cost is :  0.97033083 accuracy:  0.5458123\n",
            "completed:  694 eopch out of:  1000 cost is :  0.96841824 accuracy:  0.5396885\n",
            "completed:  695 eopch out of:  1000 cost is :  0.9697515 accuracy:  0.5458544\n",
            "completed:  696 eopch out of:  1000 cost is :  0.9678443 accuracy:  0.5397938\n",
            "completed:  697 eopch out of:  1000 cost is :  0.9691765 accuracy:  0.5458544\n"
          ],
          "name": "stdout"
        },
        {
          "output_type": "stream",
          "text": [
            "completed:  698 eopch out of:  1000 cost is :  0.96727455 accuracy:  0.53992003\n",
            "completed:  699 eopch out of:  1000 cost is :  0.9686048 accuracy:  0.54583335\n",
            "completed:  700 eopch out of:  1000 cost is :  0.96670794 accuracy:  0.5400463\n",
            "completed:  701 eopch out of:  1000 cost is :  0.9680365 accuracy:  0.5458544\n",
            "completed:  702 eopch out of:  1000 cost is :  0.9661451 accuracy:  0.5400673\n",
            "completed:  703 eopch out of:  1000 cost is :  0.96747273 accuracy:  0.54587543\n",
            "completed:  704 eopch out of:  1000 cost is :  0.96558636 accuracy:  0.54002523\n",
            "completed:  705 eopch out of:  1000 cost is :  0.96691287 accuracy:  0.54604375\n",
            "completed:  706 eopch out of:  1000 cost is :  0.96503216 accuracy:  0.5400673\n",
            "completed:  707 eopch out of:  1000 cost is :  0.96635777 accuracy:  0.546128\n",
            "completed:  708 eopch out of:  1000 cost is :  0.96448195 accuracy:  0.5400673\n",
            "completed:  709 eopch out of:  1000 cost is :  0.9658064 accuracy:  0.5461911\n",
            "completed:  710 eopch out of:  1000 cost is :  0.9639352 accuracy:  0.54010946\n",
            "completed:  711 eopch out of:  1000 cost is :  0.96525824 accuracy:  0.5462332\n",
            "completed:  712 eopch out of:  1000 cost is :  0.9633917 accuracy:  0.5401936\n",
            "completed:  713 eopch out of:  1000 cost is :  0.9647132 accuracy:  0.5462332\n",
            "completed:  714 eopch out of:  1000 cost is :  0.9628519 accuracy:  0.5402988\n",
            "completed:  715 eopch out of:  1000 cost is :  0.96417224 accuracy:  0.54627526\n",
            "completed:  716 eopch out of:  1000 cost is :  0.9623162 accuracy:  0.540383\n",
            "completed:  717 eopch out of:  1000 cost is :  0.96363527 accuracy:  0.54638046\n",
            "completed:  718 eopch out of:  1000 cost is :  0.9617846 accuracy:  0.540383\n",
            "completed:  719 eopch out of:  1000 cost is :  0.9631024 accuracy:  0.54642254\n",
            "completed:  720 eopch out of:  1000 cost is :  0.96125704 accuracy:  0.54048824\n",
            "completed:  721 eopch out of:  1000 cost is :  0.96257335 accuracy:  0.5464436\n",
            "completed:  722 eopch out of:  1000 cost is :  0.960733 accuracy:  0.5405724\n",
            "completed:  723 eopch out of:  1000 cost is :  0.9620478 accuracy:  0.54650676\n",
            "completed:  724 eopch out of:  1000 cost is :  0.96021295 accuracy:  0.5407407\n",
            "completed:  725 eopch out of:  1000 cost is :  0.9615261 accuracy:  0.54650676\n",
            "completed:  726 eopch out of:  1000 cost is :  0.95969707 accuracy:  0.5407407\n",
            "completed:  727 eopch out of:  1000 cost is :  0.9610086 accuracy:  0.54654884\n",
            "completed:  728 eopch out of:  1000 cost is :  0.9591845 accuracy:  0.54076177\n",
            "completed:  729 eopch out of:  1000 cost is :  0.9604936 accuracy:  0.54665405\n",
            "completed:  730 eopch out of:  1000 cost is :  0.9586748 accuracy:  0.5408249\n",
            "completed:  731 eopch out of:  1000 cost is :  0.959982 accuracy:  0.54671717\n",
            "completed:  732 eopch out of:  1000 cost is :  0.95816875 accuracy:  0.5409091\n",
            "completed:  733 eopch out of:  1000 cost is :  0.95947367 accuracy:  0.54675925\n",
            "completed:  734 eopch out of:  1000 cost is :  0.9576651 accuracy:  0.5410143\n",
            "completed:  735 eopch out of:  1000 cost is :  0.95896727 accuracy:  0.5467803\n",
            "completed:  736 eopch out of:  1000 cost is :  0.9571637 accuracy:  0.54107744\n",
            "completed:  737 eopch out of:  1000 cost is :  0.9584636 accuracy:  0.54682237\n",
            "completed:  738 eopch out of:  1000 cost is :  0.9566643 accuracy:  0.5410985\n",
            "completed:  739 eopch out of:  1000 cost is :  0.9579622 accuracy:  0.54686445\n",
            "completed:  740 eopch out of:  1000 cost is :  0.95616835 accuracy:  0.5412037\n",
            "completed:  741 eopch out of:  1000 cost is :  0.95746493 accuracy:  0.54686445\n",
            "completed:  742 eopch out of:  1000 cost is :  0.95567656 accuracy:  0.541351\n",
            "completed:  743 eopch out of:  1000 cost is :  0.95697176 accuracy:  0.54688555\n",
            "completed:  744 eopch out of:  1000 cost is :  0.95518863 accuracy:  0.54141414\n",
            "completed:  745 eopch out of:  1000 cost is :  0.95648223 accuracy:  0.5469487\n",
            "completed:  746 eopch out of:  1000 cost is :  0.954705 accuracy:  0.54141414\n"
          ],
          "name": "stdout"
        },
        {
          "output_type": "stream",
          "text": [
            "completed:  747 eopch out of:  1000 cost is :  0.9559973 accuracy:  0.5469487\n",
            "completed:  748 eopch out of:  1000 cost is :  0.95422536 accuracy:  0.54147726\n",
            "completed:  749 eopch out of:  1000 cost is :  0.95551527 accuracy:  0.54699075\n",
            "completed:  750 eopch out of:  1000 cost is :  0.95374894 accuracy:  0.54158247\n",
            "completed:  751 eopch out of:  1000 cost is :  0.9550376 accuracy:  0.54703283\n",
            "completed:  752 eopch out of:  1000 cost is :  0.95327693 accuracy:  0.5416667\n",
            "completed:  753 eopch out of:  1000 cost is :  0.9545634 accuracy:  0.5470118\n",
            "completed:  754 eopch out of:  1000 cost is :  0.9528081 accuracy:  0.54170877\n",
            "completed:  755 eopch out of:  1000 cost is :  0.95409197 accuracy:  0.5470539\n",
            "completed:  756 eopch out of:  1000 cost is :  0.9523419 accuracy:  0.5416667\n",
            "completed:  757 eopch out of:  1000 cost is :  0.9536233 accuracy:  0.54709595\n",
            "completed:  758 eopch out of:  1000 cost is :  0.95187914 accuracy:  0.54164565\n",
            "completed:  759 eopch out of:  1000 cost is :  0.9531582 accuracy:  0.5471801\n",
            "completed:  760 eopch out of:  1000 cost is :  0.9514198 accuracy:  0.5416035\n",
            "completed:  761 eopch out of:  1000 cost is :  0.9526959 accuracy:  0.54724324\n",
            "completed:  762 eopch out of:  1000 cost is :  0.9509626 accuracy:  0.54170877\n",
            "completed:  763 eopch out of:  1000 cost is :  0.95223606 accuracy:  0.54724324\n",
            "completed:  764 eopch out of:  1000 cost is :  0.950508 accuracy:  0.54170877\n",
            "completed:  765 eopch out of:  1000 cost is :  0.95177925 accuracy:  0.54732746\n",
            "completed:  766 eopch out of:  1000 cost is :  0.9500569 accuracy:  0.54181397\n",
            "completed:  767 eopch out of:  1000 cost is :  0.95132667 accuracy:  0.5473485\n",
            "completed:  768 eopch out of:  1000 cost is :  0.9496097 accuracy:  0.5418771\n",
            "completed:  769 eopch out of:  1000 cost is :  0.9508776 accuracy:  0.5473485\n",
            "completed:  770 eopch out of:  1000 cost is :  0.9491663 accuracy:  0.54189813\n",
            "completed:  771 eopch out of:  1000 cost is :  0.95043164 accuracy:  0.5473485\n",
            "completed:  772 eopch out of:  1000 cost is :  0.94872606 accuracy:  0.5419402\n",
            "completed:  773 eopch out of:  1000 cost is :  0.9499893 accuracy:  0.5473485\n",
            "completed:  774 eopch out of:  1000 cost is :  0.9482894 accuracy:  0.5419402\n",
            "completed:  775 eopch out of:  1000 cost is :  0.94954985 accuracy:  0.5473906\n",
            "completed:  776 eopch out of:  1000 cost is :  0.94785565 accuracy:  0.5420665\n",
            "completed:  777 eopch out of:  1000 cost is :  0.94911426 accuracy:  0.54743266\n",
            "completed:  778 eopch out of:  1000 cost is :  0.9474256 accuracy:  0.5420665\n",
            "completed:  779 eopch out of:  1000 cost is :  0.94868 accuracy:  0.54747474\n",
            "completed:  780 eopch out of:  1000 cost is :  0.94699633 accuracy:  0.54219276\n",
            "completed:  781 eopch out of:  1000 cost is :  0.94824743 accuracy:  0.5475168\n",
            "completed:  782 eopch out of:  1000 cost is :  0.9465697 accuracy:  0.54223484\n",
            "completed:  783 eopch out of:  1000 cost is :  0.9478192 accuracy:  0.5475589\n",
            "completed:  784 eopch out of:  1000 cost is :  0.9461475 accuracy:  0.54212964\n",
            "completed:  785 eopch out of:  1000 cost is :  0.9473945 accuracy:  0.547622\n",
            "completed:  786 eopch out of:  1000 cost is :  0.9457291 accuracy:  0.54219276\n",
            "completed:  787 eopch out of:  1000 cost is :  0.9469734 accuracy:  0.54770625\n",
            "completed:  788 eopch out of:  1000 cost is :  0.9453138 accuracy:  0.5421507\n",
            "completed:  789 eopch out of:  1000 cost is :  0.94655573 accuracy:  0.5477273\n",
            "completed:  790 eopch out of:  1000 cost is :  0.9449018 accuracy:  0.54223484\n",
            "completed:  791 eopch out of:  1000 cost is :  0.94614094 accuracy:  0.5477273\n",
            "completed:  792 eopch out of:  1000 cost is :  0.9444931 accuracy:  0.54234004\n",
            "completed:  793 eopch out of:  1000 cost is :  0.9457287 accuracy:  0.5478325\n",
            "completed:  794 eopch out of:  1000 cost is :  0.9440866 accuracy:  0.54242426\n",
            "completed:  795 eopch out of:  1000 cost is :  0.94531864 accuracy:  0.5478535\n"
          ],
          "name": "stdout"
        },
        {
          "output_type": "stream",
          "text": [
            "completed:  796 eopch out of:  1000 cost is :  0.9436829 accuracy:  0.54246634\n",
            "completed:  797 eopch out of:  1000 cost is :  0.944912 accuracy:  0.5478535\n",
            "completed:  798 eopch out of:  1000 cost is :  0.94328254 accuracy:  0.5424874\n",
            "completed:  799 eopch out of:  1000 cost is :  0.9445081 accuracy:  0.5479377\n",
            "completed:  800 eopch out of:  1000 cost is :  0.9428849 accuracy:  0.5425505\n",
            "completed:  801 eopch out of:  1000 cost is :  0.9441078 accuracy:  0.54791665\n",
            "completed:  802 eopch out of:  1000 cost is :  0.9424915 accuracy:  0.54257154\n",
            "completed:  803 eopch out of:  1000 cost is :  0.9437115 accuracy:  0.54791665\n",
            "completed:  804 eopch out of:  1000 cost is :  0.9421023 accuracy:  0.5426978\n",
            "completed:  805 eopch out of:  1000 cost is :  0.9433195 accuracy:  0.54787457\n",
            "completed:  806 eopch out of:  1000 cost is :  0.941716 accuracy:  0.54267675\n",
            "completed:  807 eopch out of:  1000 cost is :  0.9429297 accuracy:  0.54791665\n",
            "completed:  808 eopch out of:  1000 cost is :  0.94133186 accuracy:  0.5427399\n",
            "completed:  809 eopch out of:  1000 cost is :  0.9425419 accuracy:  0.54791665\n",
            "completed:  810 eopch out of:  1000 cost is :  0.9409505 accuracy:  0.5427399\n",
            "completed:  811 eopch out of:  1000 cost is :  0.94215757 accuracy:  0.54787457\n",
            "completed:  812 eopch out of:  1000 cost is :  0.9405726 accuracy:  0.54280305\n",
            "completed:  813 eopch out of:  1000 cost is :  0.94177634 accuracy:  0.5478535\n",
            "completed:  814 eopch out of:  1000 cost is :  0.9401975 accuracy:  0.54290825\n",
            "completed:  815 eopch out of:  1000 cost is :  0.94139755 accuracy:  0.5478956\n",
            "completed:  816 eopch out of:  1000 cost is :  0.939825 accuracy:  0.5430345\n",
            "completed:  817 eopch out of:  1000 cost is :  0.94102097 accuracy:  0.54795873\n",
            "completed:  818 eopch out of:  1000 cost is :  0.93945485 accuracy:  0.5429924\n",
            "completed:  819 eopch out of:  1000 cost is :  0.9406472 accuracy:  0.5480008\n",
            "completed:  820 eopch out of:  1000 cost is :  0.9390875 accuracy:  0.5431608\n",
            "completed:  821 eopch out of:  1000 cost is :  0.9402759 accuracy:  0.5481061\n",
            "completed:  822 eopch out of:  1000 cost is :  0.938723 accuracy:  0.5430976\n",
            "completed:  823 eopch out of:  1000 cost is :  0.9399077 accuracy:  0.5481692\n",
            "completed:  824 eopch out of:  1000 cost is :  0.93836117 accuracy:  0.5431187\n",
            "completed:  825 eopch out of:  1000 cost is :  0.93954176 accuracy:  0.5482113\n",
            "completed:  826 eopch out of:  1000 cost is :  0.93800175 accuracy:  0.5432239\n",
            "completed:  827 eopch out of:  1000 cost is :  0.9391784 accuracy:  0.5482323\n",
            "completed:  828 eopch out of:  1000 cost is :  0.9376451 accuracy:  0.5433291\n",
            "completed:  829 eopch out of:  1000 cost is :  0.93881786 accuracy:  0.54829544\n",
            "completed:  830 eopch out of:  1000 cost is :  0.9372912 accuracy:  0.54339224\n",
            "completed:  831 eopch out of:  1000 cost is :  0.93845993 accuracy:  0.54835856\n",
            "completed:  832 eopch out of:  1000 cost is :  0.93694 accuracy:  0.5433712\n",
            "completed:  833 eopch out of:  1000 cost is :  0.93810236 accuracy:  0.5483375\n",
            "completed:  834 eopch out of:  1000 cost is :  0.9365882 accuracy:  0.5433291\n",
            "completed:  835 eopch out of:  1000 cost is :  0.93774724 accuracy:  0.54835856\n",
            "completed:  836 eopch out of:  1000 cost is :  0.93624 accuracy:  0.5433712\n",
            "completed:  837 eopch out of:  1000 cost is :  0.9373979 accuracy:  0.54835856\n",
            "completed:  838 eopch out of:  1000 cost is :  0.935899 accuracy:  0.54339224\n",
            "completed:  839 eopch out of:  1000 cost is :  0.937052 accuracy:  0.5484007\n",
            "completed:  840 eopch out of:  1000 cost is :  0.9355592 accuracy:  0.5433712\n",
            "completed:  841 eopch out of:  1000 cost is :  0.9367074 accuracy:  0.5484638\n",
            "completed:  842 eopch out of:  1000 cost is :  0.9352217 accuracy:  0.54335016\n",
            "completed:  843 eopch out of:  1000 cost is :  0.9363656 accuracy:  0.54848486\n",
            "completed:  844 eopch out of:  1000 cost is :  0.93488646 accuracy:  0.5433712\n"
          ],
          "name": "stdout"
        },
        {
          "output_type": "stream",
          "text": [
            "completed:  845 eopch out of:  1000 cost is :  0.9360258 accuracy:  0.54852694\n",
            "completed:  846 eopch out of:  1000 cost is :  0.9345534 accuracy:  0.5434764\n",
            "completed:  847 eopch out of:  1000 cost is :  0.935688 accuracy:  0.548548\n",
            "completed:  848 eopch out of:  1000 cost is :  0.9342225 accuracy:  0.5434975\n",
            "completed:  849 eopch out of:  1000 cost is :  0.9353533 accuracy:  0.54859006\n",
            "completed:  850 eopch out of:  1000 cost is :  0.9338971 accuracy:  0.5434764\n",
            "completed:  851 eopch out of:  1000 cost is :  0.9350244 accuracy:  0.54863214\n",
            "completed:  852 eopch out of:  1000 cost is :  0.93357426 accuracy:  0.5435396\n",
            "completed:  853 eopch out of:  1000 cost is :  0.93469614 accuracy:  0.54863214\n",
            "completed:  854 eopch out of:  1000 cost is :  0.9332534 accuracy:  0.5436448\n",
            "completed:  855 eopch out of:  1000 cost is :  0.934371 accuracy:  0.5486532\n",
            "completed:  856 eopch out of:  1000 cost is :  0.93293566 accuracy:  0.54372895\n",
            "completed:  857 eopch out of:  1000 cost is :  0.93404835 accuracy:  0.5487795\n",
            "completed:  858 eopch out of:  1000 cost is :  0.93262 accuracy:  0.54375\n",
            "completed:  859 eopch out of:  1000 cost is :  0.93372774 accuracy:  0.54882157\n",
            "completed:  860 eopch out of:  1000 cost is :  0.9323071 accuracy:  0.54383415\n",
            "completed:  861 eopch out of:  1000 cost is :  0.9334101 accuracy:  0.54886365\n",
            "completed:  862 eopch out of:  1000 cost is :  0.931997 accuracy:  0.543771\n",
            "completed:  863 eopch out of:  1000 cost is :  0.9330949 accuracy:  0.5489268\n",
            "completed:  864 eopch out of:  1000 cost is :  0.93168926 accuracy:  0.5437079\n",
            "completed:  865 eopch out of:  1000 cost is :  0.93278235 accuracy:  0.54901093\n",
            "completed:  866 eopch out of:  1000 cost is :  0.9313837 accuracy:  0.54375\n",
            "completed:  867 eopch out of:  1000 cost is :  0.9324719 accuracy:  0.5490951\n",
            "completed:  868 eopch out of:  1000 cost is :  0.9310805 accuracy:  0.54375\n",
            "completed:  869 eopch out of:  1000 cost is :  0.9321636 accuracy:  0.54911613\n",
            "completed:  870 eopch out of:  1000 cost is :  0.9307797 accuracy:  0.54379207\n",
            "completed:  871 eopch out of:  1000 cost is :  0.93185765 accuracy:  0.54913723\n",
            "completed:  872 eopch out of:  1000 cost is :  0.93048084 accuracy:  0.54383415\n",
            "completed:  873 eopch out of:  1000 cost is :  0.9315535 accuracy:  0.54913723\n",
            "completed:  874 eopch out of:  1000 cost is :  0.93018365 accuracy:  0.5439184\n",
            "completed:  875 eopch out of:  1000 cost is :  0.93125165 accuracy:  0.5491583\n",
            "completed:  876 eopch out of:  1000 cost is :  0.9298891 accuracy:  0.5439394\n",
            "completed:  877 eopch out of:  1000 cost is :  0.9309531 accuracy:  0.54920036\n",
            "completed:  878 eopch out of:  1000 cost is :  0.9295981 accuracy:  0.5439394\n",
            "completed:  879 eopch out of:  1000 cost is :  0.9306565 accuracy:  0.5492214\n",
            "completed:  880 eopch out of:  1000 cost is :  0.92930835 accuracy:  0.54400253\n",
            "completed:  881 eopch out of:  1000 cost is :  0.93036187 accuracy:  0.5491793\n",
            "completed:  882 eopch out of:  1000 cost is :  0.9290212 accuracy:  0.5440446\n",
            "completed:  883 eopch out of:  1000 cost is :  0.9300694 accuracy:  0.5491793\n",
            "completed:  884 eopch out of:  1000 cost is :  0.9287356 accuracy:  0.5441919\n",
            "completed:  885 eopch out of:  1000 cost is :  0.9297786 accuracy:  0.5491583\n",
            "completed:  886 eopch out of:  1000 cost is :  0.9284518 accuracy:  0.5440867\n",
            "completed:  887 eopch out of:  1000 cost is :  0.92948973 accuracy:  0.5491793\n",
            "completed:  888 eopch out of:  1000 cost is :  0.9281702 accuracy:  0.5441498\n",
            "completed:  889 eopch out of:  1000 cost is :  0.92920315 accuracy:  0.5491793\n",
            "completed:  890 eopch out of:  1000 cost is :  0.9278909 accuracy:  0.54417086\n",
            "completed:  891 eopch out of:  1000 cost is :  0.92891914 accuracy:  0.54924244\n",
            "completed:  892 eopch out of:  1000 cost is :  0.92761356 accuracy:  0.544234\n",
            "completed:  893 eopch out of:  1000 cost is :  0.92863655 accuracy:  0.5492635\n",
            "completed:  894 eopch out of:  1000 cost is :  0.92733777 accuracy:  0.544234\n"
          ],
          "name": "stdout"
        },
        {
          "output_type": "stream",
          "text": [
            "completed:  895 eopch out of:  1000 cost is :  0.9283555 accuracy:  0.5493266\n",
            "completed:  896 eopch out of:  1000 cost is :  0.92706376 accuracy:  0.5441498\n",
            "completed:  897 eopch out of:  1000 cost is :  0.9280768 accuracy:  0.54934764\n",
            "completed:  898 eopch out of:  1000 cost is :  0.926792 accuracy:  0.54421294\n",
            "completed:  899 eopch out of:  1000 cost is :  0.92779964 accuracy:  0.5493687\n",
            "completed:  900 eopch out of:  1000 cost is :  0.9265219 accuracy:  0.5442761\n",
            "completed:  901 eopch out of:  1000 cost is :  0.92752445 accuracy:  0.5493897\n",
            "completed:  902 eopch out of:  1000 cost is :  0.92625356 accuracy:  0.5442551\n",
            "completed:  903 eopch out of:  1000 cost is :  0.92725086 accuracy:  0.5494949\n",
            "completed:  904 eopch out of:  1000 cost is :  0.9259865 accuracy:  0.54429716\n",
            "completed:  905 eopch out of:  1000 cost is :  0.92697847 accuracy:  0.549516\n",
            "completed:  906 eopch out of:  1000 cost is :  0.9257212 accuracy:  0.5442761\n",
            "completed:  907 eopch out of:  1000 cost is :  0.9267078 accuracy:  0.54957914\n",
            "completed:  908 eopch out of:  1000 cost is :  0.9254576 accuracy:  0.54433924\n",
            "completed:  909 eopch out of:  1000 cost is :  0.92643905 accuracy:  0.5496633\n",
            "completed:  910 eopch out of:  1000 cost is :  0.9251954 accuracy:  0.5443603\n",
            "completed:  911 eopch out of:  1000 cost is :  0.9261719 accuracy:  0.5496633\n",
            "completed:  912 eopch out of:  1000 cost is :  0.9249356 accuracy:  0.5444655\n",
            "completed:  913 eopch out of:  1000 cost is :  0.9259067 accuracy:  0.5497054\n",
            "completed:  914 eopch out of:  1000 cost is :  0.9246774 accuracy:  0.54444444\n",
            "completed:  915 eopch out of:  1000 cost is :  0.9256434 accuracy:  0.5497264\n",
            "completed:  916 eopch out of:  1000 cost is :  0.92442095 accuracy:  0.5444655\n",
            "completed:  917 eopch out of:  1000 cost is :  0.92538214 accuracy:  0.54974747\n",
            "completed:  918 eopch out of:  1000 cost is :  0.92416644 accuracy:  0.54450756\n",
            "completed:  919 eopch out of:  1000 cost is :  0.9251221 accuracy:  0.54974747\n",
            "completed:  920 eopch out of:  1000 cost is :  0.92391264 accuracy:  0.54450756\n",
            "completed:  921 eopch out of:  1000 cost is :  0.9248634 accuracy:  0.5498316\n",
            "completed:  922 eopch out of:  1000 cost is :  0.9236606 accuracy:  0.54454964\n",
            "completed:  923 eopch out of:  1000 cost is :  0.92460567 accuracy:  0.5498316\n",
            "completed:  924 eopch out of:  1000 cost is :  0.92340964 accuracy:  0.5445917\n",
            "completed:  925 eopch out of:  1000 cost is :  0.9243498 accuracy:  0.5498316\n",
            "completed:  926 eopch out of:  1000 cost is :  0.9231607 accuracy:  0.54461277\n",
            "completed:  927 eopch out of:  1000 cost is :  0.92409575 accuracy:  0.54985267\n",
            "completed:  928 eopch out of:  1000 cost is :  0.9229134 accuracy:  0.54463387\n",
            "completed:  929 eopch out of:  1000 cost is :  0.92384326 accuracy:  0.54991585\n",
            "completed:  930 eopch out of:  1000 cost is :  0.92266726 accuracy:  0.544718\n",
            "completed:  931 eopch out of:  1000 cost is :  0.92359227 accuracy:  0.54991585\n",
            "completed:  932 eopch out of:  1000 cost is :  0.9224231 accuracy:  0.54463387\n",
            "completed:  933 eopch out of:  1000 cost is :  0.92334294 accuracy:  0.5498948\n",
            "completed:  934 eopch out of:  1000 cost is :  0.9221801 accuracy:  0.544697\n",
            "completed:  935 eopch out of:  1000 cost is :  0.923095 accuracy:  0.54991585\n",
            "completed:  936 eopch out of:  1000 cost is :  0.9219392 accuracy:  0.54467595\n",
            "completed:  937 eopch out of:  1000 cost is :  0.9228491 accuracy:  0.5499369\n",
            "completed:  938 eopch out of:  1000 cost is :  0.9216996 accuracy:  0.544718\n",
            "completed:  939 eopch out of:  1000 cost is :  0.922603 accuracy:  0.549979\n",
            "completed:  940 eopch out of:  1000 cost is :  0.9214607 accuracy:  0.54478115\n",
            "completed:  941 eopch out of:  1000 cost is :  0.9223602 accuracy:  0.549979\n",
            "completed:  942 eopch out of:  1000 cost is :  0.9212245 accuracy:  0.54473907\n",
            "completed:  943 eopch out of:  1000 cost is :  0.92212 accuracy:  0.54995793\n"
          ],
          "name": "stdout"
        },
        {
          "output_type": "stream",
          "text": [
            "completed:  944 eopch out of:  1000 cost is :  0.92099065 accuracy:  0.5447601\n",
            "completed:  945 eopch out of:  1000 cost is :  0.9218822 accuracy:  0.55006313\n",
            "completed:  946 eopch out of:  1000 cost is :  0.9207594 accuracy:  0.54478115\n",
            "completed:  947 eopch out of:  1000 cost is :  0.9216469 accuracy:  0.5500842\n",
            "completed:  948 eopch out of:  1000 cost is :  0.92053086 accuracy:  0.54484427\n",
            "completed:  949 eopch out of:  1000 cost is :  0.9214142 accuracy:  0.55012625\n",
            "completed:  950 eopch out of:  1000 cost is :  0.92030364 accuracy:  0.54488635\n",
            "completed:  951 eopch out of:  1000 cost is :  0.92118204 accuracy:  0.5502736\n",
            "completed:  952 eopch out of:  1000 cost is :  0.9200771 accuracy:  0.54499155\n",
            "completed:  953 eopch out of:  1000 cost is :  0.9209507 accuracy:  0.5502525\n",
            "completed:  954 eopch out of:  1000 cost is :  0.9198523 accuracy:  0.5450758\n",
            "completed:  955 eopch out of:  1000 cost is :  0.9207213 accuracy:  0.55029464\n",
            "completed:  956 eopch out of:  1000 cost is :  0.919629 accuracy:  0.54522306\n",
            "completed:  957 eopch out of:  1000 cost is :  0.9204919 accuracy:  0.5503367\n",
            "completed:  958 eopch out of:  1000 cost is :  0.9194059 accuracy:  0.54532826\n",
            "completed:  959 eopch out of:  1000 cost is :  0.9202638 accuracy:  0.5503157\n",
            "completed:  960 eopch out of:  1000 cost is :  0.9191845 accuracy:  0.5454125\n",
            "completed:  961 eopch out of:  1000 cost is :  0.9200378 accuracy:  0.5503788\n",
            "completed:  962 eopch out of:  1000 cost is :  0.91896456 accuracy:  0.5454125\n",
            "completed:  963 eopch out of:  1000 cost is :  0.9198133 accuracy:  0.55039984\n",
            "completed:  964 eopch out of:  1000 cost is :  0.91874653 accuracy:  0.5454125\n",
            "completed:  965 eopch out of:  1000 cost is :  0.91959053 accuracy:  0.5504209\n",
            "completed:  966 eopch out of:  1000 cost is :  0.9185301 accuracy:  0.54539144\n",
            "completed:  967 eopch out of:  1000 cost is :  0.91936934 accuracy:  0.550484\n",
            "completed:  968 eopch out of:  1000 cost is :  0.91831523 accuracy:  0.5453704\n",
            "completed:  969 eopch out of:  1000 cost is :  0.9191498 accuracy:  0.5505261\n",
            "completed:  970 eopch out of:  1000 cost is :  0.9181017 accuracy:  0.54539144\n",
            "completed:  971 eopch out of:  1000 cost is :  0.91893166 accuracy:  0.5505471\n",
            "completed:  972 eopch out of:  1000 cost is :  0.91788983 accuracy:  0.54545456\n",
            "completed:  973 eopch out of:  1000 cost is :  0.91871506 accuracy:  0.5505471\n",
            "completed:  974 eopch out of:  1000 cost is :  0.91767967 accuracy:  0.54549664\n",
            "completed:  975 eopch out of:  1000 cost is :  0.9185002 accuracy:  0.55056816\n",
            "completed:  976 eopch out of:  1000 cost is :  0.9174712 accuracy:  0.5455177\n",
            "completed:  977 eopch out of:  1000 cost is :  0.9182875 accuracy:  0.5505892\n",
            "completed:  978 eopch out of:  1000 cost is :  0.91726494 accuracy:  0.54555976\n",
            "completed:  979 eopch out of:  1000 cost is :  0.9180769 accuracy:  0.5506313\n",
            "completed:  980 eopch out of:  1000 cost is :  0.91706085 accuracy:  0.54566497\n",
            "completed:  981 eopch out of:  1000 cost is :  0.9178682 accuracy:  0.5506734\n",
            "completed:  982 eopch out of:  1000 cost is :  0.9168587 accuracy:  0.5457281\n",
            "completed:  983 eopch out of:  1000 cost is :  0.91766155 accuracy:  0.55073655\n",
            "completed:  984 eopch out of:  1000 cost is :  0.9166587 accuracy:  0.5458123\n",
            "completed:  985 eopch out of:  1000 cost is :  0.91745764 accuracy:  0.5506734\n",
            "completed:  986 eopch out of:  1000 cost is :  0.9164614 accuracy:  0.5457492\n",
            "completed:  987 eopch out of:  1000 cost is :  0.91725624 accuracy:  0.5506734\n",
            "completed:  988 eopch out of:  1000 cost is :  0.9162665 accuracy:  0.5458123\n",
            "completed:  989 eopch out of:  1000 cost is :  0.9170601 accuracy:  0.5506524\n",
            "completed:  990 eopch out of:  1000 cost is :  0.91607857 accuracy:  0.5458965\n",
            "completed:  991 eopch out of:  1000 cost is :  0.9168682 accuracy:  0.5506524\n",
            "completed:  992 eopch out of:  1000 cost is :  0.915892 accuracy:  0.54598063\n"
          ],
          "name": "stdout"
        },
        {
          "output_type": "stream",
          "text": [
            "completed:  993 eopch out of:  1000 cost is :  0.91667765 accuracy:  0.5505892\n",
            "completed:  994 eopch out of:  1000 cost is :  0.91570646 accuracy:  0.5460648\n",
            "completed:  995 eopch out of:  1000 cost is :  0.9164891 accuracy:  0.5505892\n",
            "completed:  996 eopch out of:  1000 cost is :  0.9155226 accuracy:  0.546128\n",
            "completed:  997 eopch out of:  1000 cost is :  0.9163008 accuracy:  0.5506734\n",
            "completed:  998 eopch out of:  1000 cost is :  0.9153393 accuracy:  0.546128\n",
            "completed:  999 eopch out of:  1000 cost is :  0.9161139 accuracy:  0.5506313\n"
          ],
          "name": "stdout"
        }
      ]
    },
    {
      "metadata": {
        "id": "Xukzni1tvpZ0",
        "colab_type": "code",
        "colab": {
          "autoexec": {
            "startup": false,
            "wait_interval": 0
          },
          "base_uri": "https://localhost:8080/",
          "height": 34
        },
        "outputId": "513763e1-2dcc-4eac-9445-cd639759af20",
        "executionInfo": {
          "status": "ok",
          "timestamp": 1531319807420,
          "user_tz": -330,
          "elapsed": 1787,
          "user": {
            "displayName": "Swapnil Harpale",
            "photoUrl": "//lh4.googleusercontent.com/-nT1CJ8QDrcg/AAAAAAAAAAI/AAAAAAAAAdg/nmzfmQ2w9RM/s50-c-k-no/photo.jpg",
            "userId": "102332678525874102621"
          }
        }
      },
      "cell_type": "code",
      "source": [
        "prediction=tf.argmax(model,1)\n",
        "tf = prediction.eval(feed_dict={x: test_data}, session=sess)\n",
        "print (\"predictions\", tf)"
      ],
      "execution_count": 176,
      "outputs": [
        {
          "output_type": "stream",
          "text": [
            "predictions [0 0 0 ... 0 0 0]\n"
          ],
          "name": "stdout"
        }
      ]
    },
    {
      "metadata": {
        "id": "FB-X3y59jZjf",
        "colab_type": "code",
        "colab": {
          "autoexec": {
            "startup": false,
            "wait_interval": 0
          }
        }
      },
      "cell_type": "code",
      "source": [
        "#Create submission file\n",
        "\n",
        "submit = pd.DataFrame({'ID': test_data['id'],\n",
        "                       'status_group': tf\n",
        "                      })\n",
        "  \n",
        "value = {2:'functional', 1:'functional needs repair',\n",
        "                   0:'non functional'}\n",
        "\n",
        "submit['status_group']  = label.status_group.replace(value)       \n",
        "\n",
        "submit.to_csv('submission.csv', index=False)"
      ],
      "execution_count": 0,
      "outputs": []
    }
  ]
}